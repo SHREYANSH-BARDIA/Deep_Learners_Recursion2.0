{
  "nbformat": 4,
  "nbformat_minor": 0,
  "metadata": {
    "colab": {
      "name": "Model Training.ipynb",
      "provenance": [],
      "collapsed_sections": [],
      "include_colab_link": true
    },
    "kernelspec": {
      "name": "python3",
      "display_name": "Python 3"
    },
    "language_info": {
      "name": "python"
    },
    "accelerator": "GPU"
  },
  "cells": [
    {
      "cell_type": "markdown",
      "metadata": {
        "id": "view-in-github",
        "colab_type": "text"
      },
      "source": [
        "<a href=\"https://colab.research.google.com/github/SHREYANSH-BARDIA/Deep_Learners_Recursion2.0/blob/main/Model_Training.ipynb\" target=\"_parent\"><img src=\"https://colab.research.google.com/assets/colab-badge.svg\" alt=\"Open In Colab\"/></a>"
      ]
    },
    {
      "cell_type": "code",
      "metadata": {
        "id": "IzKZYZDdpE26"
      },
      "source": [
        "# Importing essential libraries\n",
        "import pandas as pd\n",
        "import numpy as np\n",
        "import matplotlib.pyplot as plt"
      ],
      "execution_count": 1,
      "outputs": []
    },
    {
      "cell_type": "code",
      "metadata": {
        "id": "EXg1DtmFie7t",
        "colab": {
          "base_uri": "https://localhost:8080/"
        },
        "outputId": "62f00243-12dc-4cfa-9d80-d4f1e81a4da9"
      },
      "source": [
        "from google.colab import drive\n",
        "drive.mount('/content/drive')"
      ],
      "execution_count": 2,
      "outputs": [
        {
          "output_type": "stream",
          "text": [
            "Mounted at /content/drive\n"
          ],
          "name": "stdout"
        }
      ]
    },
    {
      "cell_type": "code",
      "metadata": {
        "id": "GjpWfbyvsYYy"
      },
      "source": [
        "# Importing dataset\n",
        "data = pd.read_csv('/content/drive/MyDrive/Recursion 2.0/heart.csv')"
      ],
      "execution_count": 4,
      "outputs": []
    },
    {
      "cell_type": "code",
      "metadata": {
        "id": "eoQKghkPss_N"
      },
      "source": [
        "from collections import Counter\n",
        "import pandas_profiling as pp"
      ],
      "execution_count": 5,
      "outputs": []
    },
    {
      "cell_type": "code",
      "metadata": {
        "id": "qKvOIQklG7GZ"
      },
      "source": [
        "from sklearn.model_selection import train_test_split, cross_val_score\n",
        "from sklearn.preprocessing import StandardScaler\n",
        "\n",
        "from sklearn import linear_model, ensemble, metrics, tree, neighbors\n",
        "from sklearn.model_selection import GridSearchCV, RandomizedSearchCV\n",
        "\n",
        "from sklearn.metrics import classification_report,accuracy_score as acc,confusion_matrix"
      ],
      "execution_count": 143,
      "outputs": []
    },
    {
      "cell_type": "code",
      "metadata": {
        "colab": {
          "base_uri": "https://localhost:8080/"
        },
        "id": "OO_4HpIFswB_",
        "outputId": "371a6df3-8111-4239-bc31-69fd3e280674"
      },
      "source": [
        "data.info()"
      ],
      "execution_count": null,
      "outputs": [
        {
          "output_type": "stream",
          "text": [
            "<class 'pandas.core.frame.DataFrame'>\n",
            "RangeIndex: 303 entries, 0 to 302\n",
            "Data columns (total 14 columns):\n",
            " #   Column    Non-Null Count  Dtype  \n",
            "---  ------    --------------  -----  \n",
            " 0   age       303 non-null    int64  \n",
            " 1   sex       303 non-null    int64  \n",
            " 2   cp        303 non-null    int64  \n",
            " 3   trestbps  303 non-null    int64  \n",
            " 4   chol      303 non-null    int64  \n",
            " 5   fbs       303 non-null    int64  \n",
            " 6   restecg   303 non-null    int64  \n",
            " 7   thalach   303 non-null    int64  \n",
            " 8   exang     303 non-null    int64  \n",
            " 9   oldpeak   303 non-null    float64\n",
            " 10  slope     303 non-null    int64  \n",
            " 11  ca        303 non-null    int64  \n",
            " 12  thal      303 non-null    int64  \n",
            " 13  target    303 non-null    int64  \n",
            "dtypes: float64(1), int64(13)\n",
            "memory usage: 33.3 KB\n"
          ],
          "name": "stdout"
        }
      ]
    },
    {
      "cell_type": "code",
      "metadata": {
        "colab": {
          "base_uri": "https://localhost:8080/",
          "height": 284
        },
        "id": "hum8u_jxtLLB",
        "outputId": "7bf77234-5e9b-4ac7-d314-db09490548d2"
      },
      "source": [
        "data.describe()"
      ],
      "execution_count": null,
      "outputs": [
        {
          "output_type": "execute_result",
          "data": {
            "text/html": [
              "<div>\n",
              "<style scoped>\n",
              "    .dataframe tbody tr th:only-of-type {\n",
              "        vertical-align: middle;\n",
              "    }\n",
              "\n",
              "    .dataframe tbody tr th {\n",
              "        vertical-align: top;\n",
              "    }\n",
              "\n",
              "    .dataframe thead th {\n",
              "        text-align: right;\n",
              "    }\n",
              "</style>\n",
              "<table border=\"1\" class=\"dataframe\">\n",
              "  <thead>\n",
              "    <tr style=\"text-align: right;\">\n",
              "      <th></th>\n",
              "      <th>age</th>\n",
              "      <th>sex</th>\n",
              "      <th>cp</th>\n",
              "      <th>trestbps</th>\n",
              "      <th>chol</th>\n",
              "      <th>fbs</th>\n",
              "      <th>restecg</th>\n",
              "      <th>thalach</th>\n",
              "      <th>exang</th>\n",
              "      <th>oldpeak</th>\n",
              "      <th>slope</th>\n",
              "      <th>ca</th>\n",
              "      <th>thal</th>\n",
              "      <th>target</th>\n",
              "    </tr>\n",
              "  </thead>\n",
              "  <tbody>\n",
              "    <tr>\n",
              "      <th>count</th>\n",
              "      <td>303.000000</td>\n",
              "      <td>303.000000</td>\n",
              "      <td>303.000000</td>\n",
              "      <td>303.000000</td>\n",
              "      <td>303.000000</td>\n",
              "      <td>303.000000</td>\n",
              "      <td>303.000000</td>\n",
              "      <td>303.000000</td>\n",
              "      <td>303.000000</td>\n",
              "      <td>303.000000</td>\n",
              "      <td>303.000000</td>\n",
              "      <td>303.000000</td>\n",
              "      <td>303.000000</td>\n",
              "      <td>303.000000</td>\n",
              "    </tr>\n",
              "    <tr>\n",
              "      <th>mean</th>\n",
              "      <td>54.366337</td>\n",
              "      <td>0.683168</td>\n",
              "      <td>0.966997</td>\n",
              "      <td>131.623762</td>\n",
              "      <td>246.264026</td>\n",
              "      <td>0.148515</td>\n",
              "      <td>0.528053</td>\n",
              "      <td>149.646865</td>\n",
              "      <td>0.326733</td>\n",
              "      <td>1.039604</td>\n",
              "      <td>1.399340</td>\n",
              "      <td>0.729373</td>\n",
              "      <td>2.313531</td>\n",
              "      <td>0.544554</td>\n",
              "    </tr>\n",
              "    <tr>\n",
              "      <th>std</th>\n",
              "      <td>9.082101</td>\n",
              "      <td>0.466011</td>\n",
              "      <td>1.032052</td>\n",
              "      <td>17.538143</td>\n",
              "      <td>51.830751</td>\n",
              "      <td>0.356198</td>\n",
              "      <td>0.525860</td>\n",
              "      <td>22.905161</td>\n",
              "      <td>0.469794</td>\n",
              "      <td>1.161075</td>\n",
              "      <td>0.616226</td>\n",
              "      <td>1.022606</td>\n",
              "      <td>0.612277</td>\n",
              "      <td>0.498835</td>\n",
              "    </tr>\n",
              "    <tr>\n",
              "      <th>min</th>\n",
              "      <td>29.000000</td>\n",
              "      <td>0.000000</td>\n",
              "      <td>0.000000</td>\n",
              "      <td>94.000000</td>\n",
              "      <td>126.000000</td>\n",
              "      <td>0.000000</td>\n",
              "      <td>0.000000</td>\n",
              "      <td>71.000000</td>\n",
              "      <td>0.000000</td>\n",
              "      <td>0.000000</td>\n",
              "      <td>0.000000</td>\n",
              "      <td>0.000000</td>\n",
              "      <td>0.000000</td>\n",
              "      <td>0.000000</td>\n",
              "    </tr>\n",
              "    <tr>\n",
              "      <th>25%</th>\n",
              "      <td>47.500000</td>\n",
              "      <td>0.000000</td>\n",
              "      <td>0.000000</td>\n",
              "      <td>120.000000</td>\n",
              "      <td>211.000000</td>\n",
              "      <td>0.000000</td>\n",
              "      <td>0.000000</td>\n",
              "      <td>133.500000</td>\n",
              "      <td>0.000000</td>\n",
              "      <td>0.000000</td>\n",
              "      <td>1.000000</td>\n",
              "      <td>0.000000</td>\n",
              "      <td>2.000000</td>\n",
              "      <td>0.000000</td>\n",
              "    </tr>\n",
              "    <tr>\n",
              "      <th>50%</th>\n",
              "      <td>55.000000</td>\n",
              "      <td>1.000000</td>\n",
              "      <td>1.000000</td>\n",
              "      <td>130.000000</td>\n",
              "      <td>240.000000</td>\n",
              "      <td>0.000000</td>\n",
              "      <td>1.000000</td>\n",
              "      <td>153.000000</td>\n",
              "      <td>0.000000</td>\n",
              "      <td>0.800000</td>\n",
              "      <td>1.000000</td>\n",
              "      <td>0.000000</td>\n",
              "      <td>2.000000</td>\n",
              "      <td>1.000000</td>\n",
              "    </tr>\n",
              "    <tr>\n",
              "      <th>75%</th>\n",
              "      <td>61.000000</td>\n",
              "      <td>1.000000</td>\n",
              "      <td>2.000000</td>\n",
              "      <td>140.000000</td>\n",
              "      <td>274.500000</td>\n",
              "      <td>0.000000</td>\n",
              "      <td>1.000000</td>\n",
              "      <td>166.000000</td>\n",
              "      <td>1.000000</td>\n",
              "      <td>1.600000</td>\n",
              "      <td>2.000000</td>\n",
              "      <td>1.000000</td>\n",
              "      <td>3.000000</td>\n",
              "      <td>1.000000</td>\n",
              "    </tr>\n",
              "    <tr>\n",
              "      <th>max</th>\n",
              "      <td>77.000000</td>\n",
              "      <td>1.000000</td>\n",
              "      <td>3.000000</td>\n",
              "      <td>200.000000</td>\n",
              "      <td>564.000000</td>\n",
              "      <td>1.000000</td>\n",
              "      <td>2.000000</td>\n",
              "      <td>202.000000</td>\n",
              "      <td>1.000000</td>\n",
              "      <td>6.200000</td>\n",
              "      <td>2.000000</td>\n",
              "      <td>4.000000</td>\n",
              "      <td>3.000000</td>\n",
              "      <td>1.000000</td>\n",
              "    </tr>\n",
              "  </tbody>\n",
              "</table>\n",
              "</div>"
            ],
            "text/plain": [
              "              age         sex          cp  ...          ca        thal      target\n",
              "count  303.000000  303.000000  303.000000  ...  303.000000  303.000000  303.000000\n",
              "mean    54.366337    0.683168    0.966997  ...    0.729373    2.313531    0.544554\n",
              "std      9.082101    0.466011    1.032052  ...    1.022606    0.612277    0.498835\n",
              "min     29.000000    0.000000    0.000000  ...    0.000000    0.000000    0.000000\n",
              "25%     47.500000    0.000000    0.000000  ...    0.000000    2.000000    0.000000\n",
              "50%     55.000000    1.000000    1.000000  ...    0.000000    2.000000    1.000000\n",
              "75%     61.000000    1.000000    2.000000  ...    1.000000    3.000000    1.000000\n",
              "max     77.000000    1.000000    3.000000  ...    4.000000    3.000000    1.000000\n",
              "\n",
              "[8 rows x 14 columns]"
            ]
          },
          "metadata": {
            "tags": []
          },
          "execution_count": 8
        }
      ]
    },
    {
      "cell_type": "code",
      "metadata": {
        "colab": {
          "base_uri": "https://localhost:8080/"
        },
        "id": "fM0PDneOtNNJ",
        "outputId": "29d8dfa1-aecc-494e-b1cf-e2e779310cfd"
      },
      "source": [
        "data.dtypes"
      ],
      "execution_count": null,
      "outputs": [
        {
          "output_type": "execute_result",
          "data": {
            "text/plain": [
              "age           int64\n",
              "sex           int64\n",
              "cp            int64\n",
              "trestbps      int64\n",
              "chol          int64\n",
              "fbs           int64\n",
              "restecg       int64\n",
              "thalach       int64\n",
              "exang         int64\n",
              "oldpeak     float64\n",
              "slope         int64\n",
              "ca            int64\n",
              "thal          int64\n",
              "target        int64\n",
              "dtype: object"
            ]
          },
          "metadata": {
            "tags": []
          },
          "execution_count": 9
        }
      ]
    },
    {
      "cell_type": "code",
      "metadata": {
        "id": "Gfbhn2g6tk6f"
      },
      "source": [
        "data['sex'] = data['sex'].astype('str')\n",
        "data['cp'] = data['cp'].astype('str')\n",
        "data['fbs'] = data['fbs'].astype('str')\n",
        "data['restecg'] = data['restecg'].astype('str')\n",
        "data['exang'] = data['exang'].astype('str')\n",
        "data['slope'] = data['slope'].astype('str')\n",
        "data['ca'] = data['ca'].astype('str')\n",
        "data['thal'] = data['thal'].astype('str')"
      ],
      "execution_count": 7,
      "outputs": []
    },
    {
      "cell_type": "code",
      "metadata": {
        "colab": {
          "base_uri": "https://localhost:8080/",
          "height": 402
        },
        "id": "o5Gv4EjQ-Q5y",
        "outputId": "fdfe31f4-bdb0-4ddc-8267-0cab3cd9fadc"
      },
      "source": [
        "data"
      ],
      "execution_count": null,
      "outputs": [
        {
          "output_type": "execute_result",
          "data": {
            "text/html": [
              "<div>\n",
              "<style scoped>\n",
              "    .dataframe tbody tr th:only-of-type {\n",
              "        vertical-align: middle;\n",
              "    }\n",
              "\n",
              "    .dataframe tbody tr th {\n",
              "        vertical-align: top;\n",
              "    }\n",
              "\n",
              "    .dataframe thead th {\n",
              "        text-align: right;\n",
              "    }\n",
              "</style>\n",
              "<table border=\"1\" class=\"dataframe\">\n",
              "  <thead>\n",
              "    <tr style=\"text-align: right;\">\n",
              "      <th></th>\n",
              "      <th>age</th>\n",
              "      <th>sex</th>\n",
              "      <th>cp</th>\n",
              "      <th>trestbps</th>\n",
              "      <th>chol</th>\n",
              "      <th>fbs</th>\n",
              "      <th>restecg</th>\n",
              "      <th>thalach</th>\n",
              "      <th>exang</th>\n",
              "      <th>oldpeak</th>\n",
              "      <th>slope</th>\n",
              "      <th>ca</th>\n",
              "      <th>thal</th>\n",
              "      <th>target</th>\n",
              "    </tr>\n",
              "  </thead>\n",
              "  <tbody>\n",
              "    <tr>\n",
              "      <th>0</th>\n",
              "      <td>63</td>\n",
              "      <td>1</td>\n",
              "      <td>3</td>\n",
              "      <td>145</td>\n",
              "      <td>233</td>\n",
              "      <td>1</td>\n",
              "      <td>0</td>\n",
              "      <td>150</td>\n",
              "      <td>0</td>\n",
              "      <td>2.3</td>\n",
              "      <td>0</td>\n",
              "      <td>0</td>\n",
              "      <td>1</td>\n",
              "      <td>1</td>\n",
              "    </tr>\n",
              "    <tr>\n",
              "      <th>1</th>\n",
              "      <td>37</td>\n",
              "      <td>1</td>\n",
              "      <td>2</td>\n",
              "      <td>130</td>\n",
              "      <td>250</td>\n",
              "      <td>0</td>\n",
              "      <td>1</td>\n",
              "      <td>187</td>\n",
              "      <td>0</td>\n",
              "      <td>3.5</td>\n",
              "      <td>0</td>\n",
              "      <td>0</td>\n",
              "      <td>2</td>\n",
              "      <td>1</td>\n",
              "    </tr>\n",
              "    <tr>\n",
              "      <th>2</th>\n",
              "      <td>41</td>\n",
              "      <td>0</td>\n",
              "      <td>1</td>\n",
              "      <td>130</td>\n",
              "      <td>204</td>\n",
              "      <td>0</td>\n",
              "      <td>0</td>\n",
              "      <td>172</td>\n",
              "      <td>0</td>\n",
              "      <td>1.4</td>\n",
              "      <td>2</td>\n",
              "      <td>0</td>\n",
              "      <td>2</td>\n",
              "      <td>1</td>\n",
              "    </tr>\n",
              "    <tr>\n",
              "      <th>3</th>\n",
              "      <td>56</td>\n",
              "      <td>1</td>\n",
              "      <td>1</td>\n",
              "      <td>120</td>\n",
              "      <td>236</td>\n",
              "      <td>0</td>\n",
              "      <td>1</td>\n",
              "      <td>178</td>\n",
              "      <td>0</td>\n",
              "      <td>0.8</td>\n",
              "      <td>2</td>\n",
              "      <td>0</td>\n",
              "      <td>2</td>\n",
              "      <td>1</td>\n",
              "    </tr>\n",
              "    <tr>\n",
              "      <th>4</th>\n",
              "      <td>57</td>\n",
              "      <td>0</td>\n",
              "      <td>0</td>\n",
              "      <td>120</td>\n",
              "      <td>354</td>\n",
              "      <td>0</td>\n",
              "      <td>1</td>\n",
              "      <td>163</td>\n",
              "      <td>1</td>\n",
              "      <td>0.6</td>\n",
              "      <td>2</td>\n",
              "      <td>0</td>\n",
              "      <td>2</td>\n",
              "      <td>1</td>\n",
              "    </tr>\n",
              "    <tr>\n",
              "      <th>...</th>\n",
              "      <td>...</td>\n",
              "      <td>...</td>\n",
              "      <td>...</td>\n",
              "      <td>...</td>\n",
              "      <td>...</td>\n",
              "      <td>...</td>\n",
              "      <td>...</td>\n",
              "      <td>...</td>\n",
              "      <td>...</td>\n",
              "      <td>...</td>\n",
              "      <td>...</td>\n",
              "      <td>...</td>\n",
              "      <td>...</td>\n",
              "      <td>...</td>\n",
              "    </tr>\n",
              "    <tr>\n",
              "      <th>298</th>\n",
              "      <td>57</td>\n",
              "      <td>0</td>\n",
              "      <td>0</td>\n",
              "      <td>140</td>\n",
              "      <td>241</td>\n",
              "      <td>0</td>\n",
              "      <td>1</td>\n",
              "      <td>123</td>\n",
              "      <td>1</td>\n",
              "      <td>0.2</td>\n",
              "      <td>1</td>\n",
              "      <td>0</td>\n",
              "      <td>3</td>\n",
              "      <td>0</td>\n",
              "    </tr>\n",
              "    <tr>\n",
              "      <th>299</th>\n",
              "      <td>45</td>\n",
              "      <td>1</td>\n",
              "      <td>3</td>\n",
              "      <td>110</td>\n",
              "      <td>264</td>\n",
              "      <td>0</td>\n",
              "      <td>1</td>\n",
              "      <td>132</td>\n",
              "      <td>0</td>\n",
              "      <td>1.2</td>\n",
              "      <td>1</td>\n",
              "      <td>0</td>\n",
              "      <td>3</td>\n",
              "      <td>0</td>\n",
              "    </tr>\n",
              "    <tr>\n",
              "      <th>300</th>\n",
              "      <td>68</td>\n",
              "      <td>1</td>\n",
              "      <td>0</td>\n",
              "      <td>144</td>\n",
              "      <td>193</td>\n",
              "      <td>1</td>\n",
              "      <td>1</td>\n",
              "      <td>141</td>\n",
              "      <td>0</td>\n",
              "      <td>3.4</td>\n",
              "      <td>1</td>\n",
              "      <td>2</td>\n",
              "      <td>3</td>\n",
              "      <td>0</td>\n",
              "    </tr>\n",
              "    <tr>\n",
              "      <th>301</th>\n",
              "      <td>57</td>\n",
              "      <td>1</td>\n",
              "      <td>0</td>\n",
              "      <td>130</td>\n",
              "      <td>131</td>\n",
              "      <td>0</td>\n",
              "      <td>1</td>\n",
              "      <td>115</td>\n",
              "      <td>1</td>\n",
              "      <td>1.2</td>\n",
              "      <td>1</td>\n",
              "      <td>1</td>\n",
              "      <td>3</td>\n",
              "      <td>0</td>\n",
              "    </tr>\n",
              "    <tr>\n",
              "      <th>302</th>\n",
              "      <td>57</td>\n",
              "      <td>0</td>\n",
              "      <td>1</td>\n",
              "      <td>130</td>\n",
              "      <td>236</td>\n",
              "      <td>0</td>\n",
              "      <td>0</td>\n",
              "      <td>174</td>\n",
              "      <td>0</td>\n",
              "      <td>0.0</td>\n",
              "      <td>1</td>\n",
              "      <td>1</td>\n",
              "      <td>2</td>\n",
              "      <td>0</td>\n",
              "    </tr>\n",
              "  </tbody>\n",
              "</table>\n",
              "<p>303 rows × 14 columns</p>\n",
              "</div>"
            ],
            "text/plain": [
              "     age sex cp  trestbps  chol fbs  ... exang  oldpeak slope  ca thal target\n",
              "0     63   1  3       145   233   1  ...     0      2.3     0   0    1      1\n",
              "1     37   1  2       130   250   0  ...     0      3.5     0   0    2      1\n",
              "2     41   0  1       130   204   0  ...     0      1.4     2   0    2      1\n",
              "3     56   1  1       120   236   0  ...     0      0.8     2   0    2      1\n",
              "4     57   0  0       120   354   0  ...     1      0.6     2   0    2      1\n",
              "..   ...  .. ..       ...   ...  ..  ...   ...      ...   ...  ..  ...    ...\n",
              "298   57   0  0       140   241   0  ...     1      0.2     1   0    3      0\n",
              "299   45   1  3       110   264   0  ...     0      1.2     1   0    3      0\n",
              "300   68   1  0       144   193   1  ...     0      3.4     1   2    3      0\n",
              "301   57   1  0       130   131   0  ...     1      1.2     1   1    3      0\n",
              "302   57   0  1       130   236   0  ...     0      0.0     1   1    2      0\n",
              "\n",
              "[303 rows x 14 columns]"
            ]
          },
          "metadata": {
            "tags": []
          },
          "execution_count": 11
        }
      ]
    },
    {
      "cell_type": "code",
      "metadata": {
        "id": "fXfTPLk6-krz"
      },
      "source": [
        "data = data.sample(frac=1).reset_index(drop=True)"
      ],
      "execution_count": 80,
      "outputs": []
    },
    {
      "cell_type": "code",
      "metadata": {
        "id": "R4x9-6TLCMnt"
      },
      "source": [
        "train = data[0:252]\n",
        "test = data[252:302]"
      ],
      "execution_count": 81,
      "outputs": []
    },
    {
      "cell_type": "code",
      "metadata": {
        "id": "ZSbHxUxGCafW"
      },
      "source": [
        "x_train = train.iloc[:,0:13]\n",
        "y_train = train['target']\n",
        "\n",
        "x_test = test.iloc[:,0:13]\n",
        "y_test = test['target']"
      ],
      "execution_count": 82,
      "outputs": []
    },
    {
      "cell_type": "markdown",
      "metadata": {
        "id": "wW4_lHRGFfqj"
      },
      "source": [
        "## Model development"
      ]
    },
    {
      "cell_type": "markdown",
      "metadata": {
        "id": "dMWxas4XIh1c"
      },
      "source": [
        "## Logistic Regression"
      ]
    },
    {
      "cell_type": "markdown",
      "metadata": {
        "id": "yAZh2bKoElKv"
      },
      "source": [
        "### Hyperparameter Tuning"
      ]
    },
    {
      "cell_type": "code",
      "metadata": {
        "id": "HUfSohWTHIbd"
      },
      "source": [
        "# Hyperparameter Tuning: Using GridSearchCV to find the best hyperparameters for each parameter of this model\n",
        "\n",
        "Cs = [1,2,3,4,5]\n",
        "fit_intercept = [True, False]\n",
        "cv = [4,5]\n",
        "dual = [True, False]\n",
        "penalty = ['l1', 'l2','elasticnet']\n",
        "solver = ['liblinear', 'saga', 'newton-cg', 'sag', 'lbfgs']\n",
        "class_weight = [{1:0.5, 0:0.5}, {1:0.4, 0:0.6}, {1:0.6, 0:0.4}, {1:0.7, 0:0.3}]\n",
        "max_iter=[1000,1200]\n",
        "\n",
        "\n",
        "param_grid = dict(penalty=penalty,\n",
        "                  Cs=Cs,\n",
        "                  class_weight=class_weight,\n",
        "                  solver=solver,\n",
        "                  fit_intercept=fit_intercept,\n",
        "                  dual=dual,\n",
        "                  cv=cv,\n",
        "                  max_iter=max_iter)"
      ],
      "execution_count": 100,
      "outputs": []
    },
    {
      "cell_type": "code",
      "metadata": {
        "id": "ZOlju2isrvdN"
      },
      "source": [
        "logregCV = linear_model.LogisticRegressionCV(Cs=3,\n",
        "                                             class_weight={1: 0.5, 0: 0.5},\n",
        "                                             cv=4,\n",
        "                                             dual=False,\n",
        "                                             fit_intercept= True,\n",
        "                                             penalty='l2',\n",
        "                                             solver='lbfgs',max_iter=1000)\n"
      ],
      "execution_count": 101,
      "outputs": []
    },
    {
      "cell_type": "code",
      "metadata": {
        "id": "wn4bCQpwDKIE",
        "colab": {
          "base_uri": "https://localhost:8080/"
        },
        "outputId": "86881e07-e84a-4188-c630-7fefaab9844c"
      },
      "source": [
        "grid = GridSearchCV(estimator=logregCV, param_grid=param_grid, scoring='roc_auc', verbose=1, n_jobs=-1)\n",
        "grid_result = grid.fit(x_train, y_train)\n",
        "\n"
      ],
      "execution_count": 102,
      "outputs": [
        {
          "output_type": "stream",
          "text": [
            "Fitting 5 folds for each of 4800 candidates, totalling 24000 fits\n"
          ],
          "name": "stdout"
        },
        {
          "output_type": "stream",
          "text": [
            "[Parallel(n_jobs=-1)]: Using backend LokyBackend with 2 concurrent workers.\n",
            "[Parallel(n_jobs=-1)]: Done 1660 tasks      | elapsed:    8.0s\n",
            "[Parallel(n_jobs=-1)]: Done 5894 tasks      | elapsed:  1.0min\n",
            "[Parallel(n_jobs=-1)]: Done 7786 tasks      | elapsed:  2.2min\n",
            "[Parallel(n_jobs=-1)]: Done 10157 tasks      | elapsed:  3.9min\n",
            "[Parallel(n_jobs=-1)]: Done 12598 tasks      | elapsed:  6.3min\n",
            "[Parallel(n_jobs=-1)]: Done 15392 tasks      | elapsed:  9.0min\n",
            "[Parallel(n_jobs=-1)]: Done 18471 tasks      | elapsed: 12.7min\n",
            "[Parallel(n_jobs=-1)]: Done 21528 tasks      | elapsed: 16.9min\n",
            "[Parallel(n_jobs=-1)]: Done 24000 out of 24000 | elapsed: 20.5min finished\n",
            "/usr/local/lib/python3.7/dist-packages/sklearn/svm/_base.py:947: ConvergenceWarning: Liblinear failed to converge, increase the number of iterations.\n",
            "  \"the number of iterations.\", ConvergenceWarning)\n",
            "/usr/local/lib/python3.7/dist-packages/sklearn/svm/_base.py:947: ConvergenceWarning: Liblinear failed to converge, increase the number of iterations.\n",
            "  \"the number of iterations.\", ConvergenceWarning)\n",
            "/usr/local/lib/python3.7/dist-packages/sklearn/svm/_base.py:947: ConvergenceWarning: Liblinear failed to converge, increase the number of iterations.\n",
            "  \"the number of iterations.\", ConvergenceWarning)\n",
            "/usr/local/lib/python3.7/dist-packages/sklearn/svm/_base.py:947: ConvergenceWarning: Liblinear failed to converge, increase the number of iterations.\n",
            "  \"the number of iterations.\", ConvergenceWarning)\n",
            "/usr/local/lib/python3.7/dist-packages/sklearn/svm/_base.py:947: ConvergenceWarning: Liblinear failed to converge, increase the number of iterations.\n",
            "  \"the number of iterations.\", ConvergenceWarning)\n",
            "/usr/local/lib/python3.7/dist-packages/sklearn/svm/_base.py:947: ConvergenceWarning: Liblinear failed to converge, increase the number of iterations.\n",
            "  \"the number of iterations.\", ConvergenceWarning)\n",
            "/usr/local/lib/python3.7/dist-packages/sklearn/svm/_base.py:947: ConvergenceWarning: Liblinear failed to converge, increase the number of iterations.\n",
            "  \"the number of iterations.\", ConvergenceWarning)\n",
            "/usr/local/lib/python3.7/dist-packages/sklearn/svm/_base.py:947: ConvergenceWarning: Liblinear failed to converge, increase the number of iterations.\n",
            "  \"the number of iterations.\", ConvergenceWarning)\n"
          ],
          "name": "stderr"
        }
      ]
    },
    {
      "cell_type": "code",
      "metadata": {
        "id": "9-wdItJkv3Nh",
        "colab": {
          "base_uri": "https://localhost:8080/"
        },
        "outputId": "0e0b5a9b-0045-4c9a-dddb-7fe16cfad769"
      },
      "source": [
        "print('Best Score: ', grid_result.best_score_)\n",
        "print('Best Params: ', grid_result.best_params_)"
      ],
      "execution_count": 103,
      "outputs": [
        {
          "output_type": "stream",
          "text": [
            "Best Score:  0.894679193592237\n",
            "Best Params:  {'Cs': 3, 'class_weight': {1: 0.5, 0: 0.5}, 'cv': 4, 'dual': True, 'fit_intercept': False, 'max_iter': 1000, 'penalty': 'l2', 'solver': 'liblinear'}\n"
          ],
          "name": "stdout"
        }
      ]
    },
    {
      "cell_type": "markdown",
      "metadata": {
        "id": "244SA2waDUKY"
      },
      "source": [
        "### Cross validation"
      ]
    },
    {
      "cell_type": "code",
      "metadata": {
        "colab": {
          "base_uri": "https://localhost:8080/"
        },
        "id": "hAKTycVEDWkz",
        "outputId": "619e3a98-43f4-49ef-b614-83a42aed52d5"
      },
      "source": [
        "from sklearn.model_selection import cross_val_score\n",
        "\n",
        "scores = cross_val_score(logregCV,x_train,y_train,cv=5)\n",
        "\n",
        "print('Mean score:',scores.mean())"
      ],
      "execution_count": 200,
      "outputs": [
        {
          "output_type": "stream",
          "text": [
            "/usr/local/lib/python3.7/dist-packages/sklearn/utils/validation.py:760: DataConversionWarning: A column-vector y was passed when a 1d array was expected. Please change the shape of y to (n_samples, ), for example using ravel().\n",
            "  y = column_or_1d(y, warn=True)\n",
            "/usr/local/lib/python3.7/dist-packages/sklearn/utils/validation.py:760: DataConversionWarning: A column-vector y was passed when a 1d array was expected. Please change the shape of y to (n_samples, ), for example using ravel().\n",
            "  y = column_or_1d(y, warn=True)\n",
            "/usr/local/lib/python3.7/dist-packages/sklearn/utils/validation.py:760: DataConversionWarning: A column-vector y was passed when a 1d array was expected. Please change the shape of y to (n_samples, ), for example using ravel().\n",
            "  y = column_or_1d(y, warn=True)\n",
            "/usr/local/lib/python3.7/dist-packages/sklearn/utils/validation.py:760: DataConversionWarning: A column-vector y was passed when a 1d array was expected. Please change the shape of y to (n_samples, ), for example using ravel().\n",
            "  y = column_or_1d(y, warn=True)\n",
            "/usr/local/lib/python3.7/dist-packages/sklearn/utils/validation.py:760: DataConversionWarning: A column-vector y was passed when a 1d array was expected. Please change the shape of y to (n_samples, ), for example using ravel().\n",
            "  y = column_or_1d(y, warn=True)\n"
          ],
          "name": "stderr"
        },
        {
          "output_type": "stream",
          "text": [
            "Mean score: 0.8330980392156861\n"
          ],
          "name": "stdout"
        }
      ]
    },
    {
      "cell_type": "code",
      "metadata": {
        "id": "I84iI8vKr6DO",
        "colab": {
          "base_uri": "https://localhost:8080/"
        },
        "outputId": "7a50ee14-d659-4795-b5f7-0cb01d1dd8c9"
      },
      "source": [
        "fit = logregCV.fit(x_train, y_train)"
      ],
      "execution_count": 292,
      "outputs": [
        {
          "output_type": "stream",
          "text": [
            "/usr/local/lib/python3.7/dist-packages/sklearn/utils/validation.py:760: DataConversionWarning: A column-vector y was passed when a 1d array was expected. Please change the shape of y to (n_samples, ), for example using ravel().\n",
            "  y = column_or_1d(y, warn=True)\n"
          ],
          "name": "stderr"
        }
      ]
    },
    {
      "cell_type": "markdown",
      "metadata": {
        "id": "R1-rf2gVEe9e"
      },
      "source": [
        "### Fitting the model"
      ]
    },
    {
      "cell_type": "code",
      "metadata": {
        "colab": {
          "base_uri": "https://localhost:8080/"
        },
        "id": "Ya6sUAuNMtpz",
        "outputId": "4bad2e3d-e35b-433f-f9d6-40946fd31651"
      },
      "source": [
        "pred = fit.predict(x_train)\n",
        "log_reg_acc = acc(y_train,pred)\n",
        "log_reg_acc"
      ],
      "execution_count": 294,
      "outputs": [
        {
          "output_type": "execute_result",
          "data": {
            "text/plain": [
              "0.8531746031746031"
            ]
          },
          "metadata": {
            "tags": []
          },
          "execution_count": 294
        }
      ]
    },
    {
      "cell_type": "code",
      "metadata": {
        "colab": {
          "base_uri": "https://localhost:8080/"
        },
        "id": "0RX5MX0qqtFs",
        "outputId": "2b2c3afe-9438-407a-e2e0-205034594f26"
      },
      "source": [
        "# Accuracy of LogisticRegressionCV\n",
        "pred = fit.predict(x_test)\n",
        "log_reg_acc = acc(y_test,pred)\n",
        "log_reg_acc"
      ],
      "execution_count": 105,
      "outputs": [
        {
          "output_type": "execute_result",
          "data": {
            "text/plain": [
              "0.86"
            ]
          },
          "metadata": {
            "tags": []
          },
          "execution_count": 105
        }
      ]
    },
    {
      "cell_type": "code",
      "metadata": {
        "id": "b24kijlzQJlt",
        "colab": {
          "base_uri": "https://localhost:8080/"
        },
        "outputId": "9883eea8-f88c-4205-c6d3-5f9b3945e58b"
      },
      "source": [
        "print(classification_report(y_test, pred))"
      ],
      "execution_count": 106,
      "outputs": [
        {
          "output_type": "stream",
          "text": [
            "              precision    recall  f1-score   support\n",
            "\n",
            "           0       0.86      0.83      0.84        23\n",
            "           1       0.86      0.89      0.87        27\n",
            "\n",
            "    accuracy                           0.86        50\n",
            "   macro avg       0.86      0.86      0.86        50\n",
            "weighted avg       0.86      0.86      0.86        50\n",
            "\n"
          ],
          "name": "stdout"
        }
      ]
    },
    {
      "cell_type": "code",
      "metadata": {
        "colab": {
          "base_uri": "https://localhost:8080/"
        },
        "id": "-zk6EleNPqTZ",
        "outputId": "8e70126a-fb92-482d-f823-b75091812526"
      },
      "source": [
        "confusion_matrix(y_test, pred)"
      ],
      "execution_count": 107,
      "outputs": [
        {
          "output_type": "execute_result",
          "data": {
            "text/plain": [
              "array([[19,  4],\n",
              "       [ 3, 24]])"
            ]
          },
          "metadata": {
            "tags": []
          },
          "execution_count": 107
        }
      ]
    },
    {
      "cell_type": "markdown",
      "metadata": {
        "id": "BAmIdoEzvKDA"
      },
      "source": [
        "In EDA we had seen that 'fbs' and 'chol' have relatively weaker correlations with the target variable, let us try to build the same model after excluding these features "
      ]
    },
    {
      "cell_type": "code",
      "metadata": {
        "colab": {
          "base_uri": "https://localhost:8080/"
        },
        "id": "vAY774wAvbpE",
        "outputId": "e85801e4-0d79-4c64-9b87-903eba293494"
      },
      "source": [
        "new_features = data[['age','sex','cp','trestbps','restecg','thalach','exang','oldpeak','slope','ca','thal']]\n",
        "target = data['target']\n",
        "from sklearn.model_selection import train_test_split\n",
        "\n",
        "x_train2,x_test2,y_train2,y_test2 = train_test_split(new_features,target,test_size=0.2,random_state=0)\n",
        "\n",
        "print(x_train2.shape)\n",
        "print(x_test2.shape)\n",
        "print(y_train2.shape)\n",
        "print(y_test2.shape)"
      ],
      "execution_count": 108,
      "outputs": [
        {
          "output_type": "stream",
          "text": [
            "(242, 11)\n",
            "(61, 11)\n",
            "(242,)\n",
            "(61,)\n"
          ],
          "name": "stdout"
        }
      ]
    },
    {
      "cell_type": "code",
      "metadata": {
        "colab": {
          "base_uri": "https://localhost:8080/"
        },
        "id": "QRPL_-e7vyTQ",
        "outputId": "a1fe7f39-17a1-40b9-d5b3-b743371336e2"
      },
      "source": [
        "fit = logregCV.fit(x_train2, y_train2)\n",
        "pred = fit.predict(x_test2)\n",
        "log_reg_acc = acc(y_test2,pred)\n",
        "log_reg_acc\n",
        "\n",
        "# Accuracy increases by 4%"
      ],
      "execution_count": 109,
      "outputs": [
        {
          "output_type": "execute_result",
          "data": {
            "text/plain": [
              "0.9016393442622951"
            ]
          },
          "metadata": {
            "tags": []
          },
          "execution_count": 109
        }
      ]
    },
    {
      "cell_type": "markdown",
      "metadata": {
        "id": "Niua1uOEY0U4"
      },
      "source": [
        "## Random Forests"
      ]
    },
    {
      "cell_type": "markdown",
      "metadata": {
        "id": "74kDee_6EpGZ"
      },
      "source": [
        "### Hyperparameter Tuning"
      ]
    },
    {
      "cell_type": "code",
      "metadata": {
        "id": "_XvGDBPCPvmv"
      },
      "source": [
        "from sklearn.ensemble import RandomForestClassifier"
      ],
      "execution_count": 112,
      "outputs": []
    },
    {
      "cell_type": "code",
      "metadata": {
        "id": "TCdSRT-ZLLQp"
      },
      "source": [
        "param_grid = { \n",
        "    'n_estimators' : [100, 150, 200],\n",
        "    'criterion': ['gini'],\n",
        "    'max_features': ['auto', 'sqrt', 'log2'],\n",
        "    'max_depth' : [50, 75, 100],\n",
        "    'min_samples_split' : [2, 4, 8],\n",
        "    'min_samples_leaf' : [1, 2, 4, 8]\n",
        "}"
      ],
      "execution_count": 113,
      "outputs": []
    },
    {
      "cell_type": "code",
      "metadata": {
        "colab": {
          "base_uri": "https://localhost:8080/"
        },
        "id": "8RWeWMQHZXgi",
        "outputId": "f7e9e6f9-5c95-4637-b7a7-ee43c59c6bc5"
      },
      "source": [
        "rfc = RandomForestClassifier()\n",
        "CV_rfc = GridSearchCV(estimator=rfc, param_grid=param_grid, cv= 5, verbose = 1, n_jobs=-1)\n",
        "CV_rfc.fit(x_train, y_train)\n"
      ],
      "execution_count": 114,
      "outputs": [
        {
          "output_type": "stream",
          "text": [
            "Fitting 5 folds for each of 324 candidates, totalling 1620 fits\n"
          ],
          "name": "stdout"
        },
        {
          "output_type": "stream",
          "text": [
            "[Parallel(n_jobs=-1)]: Using backend LokyBackend with 2 concurrent workers.\n",
            "[Parallel(n_jobs=-1)]: Done  46 tasks      | elapsed:    7.5s\n",
            "[Parallel(n_jobs=-1)]: Done 196 tasks      | elapsed:   31.6s\n",
            "[Parallel(n_jobs=-1)]: Done 446 tasks      | elapsed:  1.2min\n",
            "[Parallel(n_jobs=-1)]: Done 796 tasks      | elapsed:  2.1min\n",
            "[Parallel(n_jobs=-1)]: Done 1246 tasks      | elapsed:  3.3min\n",
            "[Parallel(n_jobs=-1)]: Done 1620 out of 1620 | elapsed:  4.3min finished\n"
          ],
          "name": "stderr"
        },
        {
          "output_type": "execute_result",
          "data": {
            "text/plain": [
              "GridSearchCV(cv=5, error_score=nan,\n",
              "             estimator=RandomForestClassifier(bootstrap=True, ccp_alpha=0.0,\n",
              "                                              class_weight=None,\n",
              "                                              criterion='gini', max_depth=None,\n",
              "                                              max_features='auto',\n",
              "                                              max_leaf_nodes=None,\n",
              "                                              max_samples=None,\n",
              "                                              min_impurity_decrease=0.0,\n",
              "                                              min_impurity_split=None,\n",
              "                                              min_samples_leaf=1,\n",
              "                                              min_samples_split=2,\n",
              "                                              min_weight_fraction_leaf=0.0,\n",
              "                                              n_estimators=100, n_jobs=None,\n",
              "                                              oob_score=False,\n",
              "                                              random_state=None, verbose=0,\n",
              "                                              warm_start=False),\n",
              "             iid='deprecated', n_jobs=-1,\n",
              "             param_grid={'criterion': ['gini'], 'max_depth': [50, 75, 100],\n",
              "                         'max_features': ['auto', 'sqrt', 'log2'],\n",
              "                         'min_samples_leaf': [1, 2, 4, 8],\n",
              "                         'min_samples_split': [2, 4, 8],\n",
              "                         'n_estimators': [100, 150, 200]},\n",
              "             pre_dispatch='2*n_jobs', refit=True, return_train_score=False,\n",
              "             scoring=None, verbose=1)"
            ]
          },
          "metadata": {
            "tags": []
          },
          "execution_count": 114
        }
      ]
    },
    {
      "cell_type": "code",
      "metadata": {
        "colab": {
          "base_uri": "https://localhost:8080/"
        },
        "id": "sU7KH-T6Ps-d",
        "outputId": "00d01642-38c3-4773-8450-e2ff5c2628f2"
      },
      "source": [
        "print(CV_rfc.best_params_)\n",
        "print(CV_rfc.best_score_)"
      ],
      "execution_count": 115,
      "outputs": [
        {
          "output_type": "stream",
          "text": [
            "{'criterion': 'gini', 'max_depth': 50, 'max_features': 'auto', 'min_samples_leaf': 8, 'min_samples_split': 4, 'n_estimators': 100}\n",
            "0.8411764705882353\n"
          ],
          "name": "stdout"
        }
      ]
    },
    {
      "cell_type": "code",
      "metadata": {
        "id": "DthaInHNgOGA",
        "colab": {
          "base_uri": "https://localhost:8080/"
        },
        "outputId": "b89a96ee-5875-495f-8738-dadbce068276"
      },
      "source": [
        "rfc = ensemble.RandomForestClassifier(criterion='gini', \n",
        "                                      max_features = 'auto',\n",
        "                                      n_estimators = 100,\n",
        "                                      max_depth = 50,\n",
        "                                      min_samples_leaf=8,\n",
        "                                      min_samples_split=2)\n",
        "\n",
        "fit = rfc.fit(x_train, y_train)"
      ],
      "execution_count": 207,
      "outputs": [
        {
          "output_type": "stream",
          "text": [
            "/usr/local/lib/python3.7/dist-packages/ipykernel_launcher.py:8: DataConversionWarning: A column-vector y was passed when a 1d array was expected. Please change the shape of y to (n_samples,), for example using ravel().\n",
            "  \n"
          ],
          "name": "stderr"
        }
      ]
    },
    {
      "cell_type": "markdown",
      "metadata": {
        "id": "JlPY_QZBELxh"
      },
      "source": [
        "### Cross Validation"
      ]
    },
    {
      "cell_type": "code",
      "metadata": {
        "colab": {
          "base_uri": "https://localhost:8080/"
        },
        "id": "3LJtKUC1EK1j",
        "outputId": "883fb551-e2a0-46be-e0ce-f948fd935f43"
      },
      "source": [
        "scores = cross_val_score(rfc,x_train,y_train,cv=5)\n"
      ],
      "execution_count": 208,
      "outputs": [
        {
          "output_type": "stream",
          "text": [
            "/usr/local/lib/python3.7/dist-packages/sklearn/model_selection/_validation.py:515: DataConversionWarning: A column-vector y was passed when a 1d array was expected. Please change the shape of y to (n_samples,), for example using ravel().\n",
            "  estimator.fit(X_train, y_train, **fit_params)\n",
            "/usr/local/lib/python3.7/dist-packages/sklearn/model_selection/_validation.py:515: DataConversionWarning: A column-vector y was passed when a 1d array was expected. Please change the shape of y to (n_samples,), for example using ravel().\n",
            "  estimator.fit(X_train, y_train, **fit_params)\n",
            "/usr/local/lib/python3.7/dist-packages/sklearn/model_selection/_validation.py:515: DataConversionWarning: A column-vector y was passed when a 1d array was expected. Please change the shape of y to (n_samples,), for example using ravel().\n",
            "  estimator.fit(X_train, y_train, **fit_params)\n",
            "/usr/local/lib/python3.7/dist-packages/sklearn/model_selection/_validation.py:515: DataConversionWarning: A column-vector y was passed when a 1d array was expected. Please change the shape of y to (n_samples,), for example using ravel().\n",
            "  estimator.fit(X_train, y_train, **fit_params)\n",
            "/usr/local/lib/python3.7/dist-packages/sklearn/model_selection/_validation.py:515: DataConversionWarning: A column-vector y was passed when a 1d array was expected. Please change the shape of y to (n_samples,), for example using ravel().\n",
            "  estimator.fit(X_train, y_train, **fit_params)\n"
          ],
          "name": "stderr"
        }
      ]
    },
    {
      "cell_type": "code",
      "metadata": {
        "colab": {
          "base_uri": "https://localhost:8080/"
        },
        "id": "FTR2geD1ETsm",
        "outputId": "ddaab5e1-8ba2-4b69-c5c6-930306a83c33"
      },
      "source": [
        "print('Mean score:',scores.mean())\n"
      ],
      "execution_count": 209,
      "outputs": [
        {
          "output_type": "stream",
          "text": [
            "Mean score: 0.8094901960784313\n"
          ],
          "name": "stdout"
        }
      ]
    },
    {
      "cell_type": "markdown",
      "metadata": {
        "id": "Y9F8BEMAEV34"
      },
      "source": [
        "### Fitting the model"
      ]
    },
    {
      "cell_type": "code",
      "metadata": {
        "colab": {
          "base_uri": "https://localhost:8080/"
        },
        "id": "XzvI8Us9nY64",
        "outputId": "dbddf57b-b7fc-43be-e272-4cdea83e438b"
      },
      "source": [
        "pred = fit.predict(x_test)\n",
        "rfc_acc = acc(pred,y_test)\n",
        "print('Accuracy:',rfc_acc)\n",
        "print('\\n')\n",
        "print(classification_report(y_test, pred))"
      ],
      "execution_count": 210,
      "outputs": [
        {
          "output_type": "stream",
          "text": [
            "Accuracy: 0.84\n",
            "\n",
            "\n",
            "              precision    recall  f1-score   support\n",
            "\n",
            "         0.0       0.86      0.78      0.82        23\n",
            "         1.0       0.83      0.89      0.86        27\n",
            "\n",
            "    accuracy                           0.84        50\n",
            "   macro avg       0.84      0.84      0.84        50\n",
            "weighted avg       0.84      0.84      0.84        50\n",
            "\n"
          ],
          "name": "stdout"
        }
      ]
    },
    {
      "cell_type": "code",
      "metadata": {
        "colab": {
          "base_uri": "https://localhost:8080/"
        },
        "id": "LLD3Pd8InHZ8",
        "outputId": "c5d4187a-1bb6-4632-82ba-9664c7e4f6fc"
      },
      "source": [
        "print(confusion_matrix(y_test, pred))"
      ],
      "execution_count": 212,
      "outputs": [
        {
          "output_type": "stream",
          "text": [
            "[[18  5]\n",
            " [ 3 24]]\n"
          ],
          "name": "stdout"
        }
      ]
    },
    {
      "cell_type": "code",
      "metadata": {
        "colab": {
          "base_uri": "https://localhost:8080/"
        },
        "id": "8XDVffFQwxqH",
        "outputId": "38aae59f-d693-4a96-ef70-80a6d61ec936"
      },
      "source": [
        "# Accuracy of random forest after excluding 'fbs' and 'chol'\n",
        "\n",
        "new_features = data[['age','sex','cp','trestbps','restecg','thalach','exang','oldpeak','slope','ca','thal']]\n",
        "target = data['target']\n",
        "from sklearn.model_selection import train_test_split\n",
        "\n",
        "x_train2,x_test2,y_train2,y_test2 = train_test_split(new_features,target,test_size=0.2,random_state=0)\n",
        "\n",
        "print(x_train2.shape)\n",
        "print(x_test2.shape)\n",
        "print(y_train2.shape)\n",
        "print(y_test2.shape)"
      ],
      "execution_count": 213,
      "outputs": [
        {
          "output_type": "stream",
          "text": [
            "(242, 11)\n",
            "(61, 11)\n",
            "(242,)\n",
            "(61,)\n"
          ],
          "name": "stdout"
        }
      ]
    },
    {
      "cell_type": "code",
      "metadata": {
        "colab": {
          "base_uri": "https://localhost:8080/"
        },
        "id": "qy0RCh0Hw-nZ",
        "outputId": "acfeea75-0361-4f8f-aab7-17ab31f99ff2"
      },
      "source": [
        "fit = rfc.fit(x_train2, y_train2)\n",
        "pred = fit.predict(x_test2)\n",
        "rfc_acc2 = acc(y_test2,pred)\n",
        "rfc_acc2\n",
        "# Accuracy increases by approximately 4% "
      ],
      "execution_count": 214,
      "outputs": [
        {
          "output_type": "execute_result",
          "data": {
            "text/plain": [
              "0.8852459016393442"
            ]
          },
          "metadata": {
            "tags": []
          },
          "execution_count": 214
        }
      ]
    },
    {
      "cell_type": "markdown",
      "metadata": {
        "id": "QPmXlCFeiI2e"
      },
      "source": [
        "## Decision Tree"
      ]
    },
    {
      "cell_type": "markdown",
      "metadata": {
        "id": "0Z0qTL47FIYs"
      },
      "source": [
        "### Hyperparameter Tuning"
      ]
    },
    {
      "cell_type": "code",
      "metadata": {
        "id": "K8Y6Sl4ese3n"
      },
      "source": [
        "param_grid = {\n",
        "    \"criterion\": ['gini','entropy'],\n",
        "    \"max_depth\": range(1,10),\n",
        "    \"min_samples_split\": range(1,10),\n",
        "    }"
      ],
      "execution_count": 126,
      "outputs": []
    },
    {
      "cell_type": "code",
      "metadata": {
        "colab": {
          "base_uri": "https://localhost:8080/"
        },
        "id": "4RVMgpNRshRa",
        "outputId": "f3370f31-f8b0-40a7-c112-38a3c19773eb"
      },
      "source": [
        "from sklearn.tree import DecisionTreeClassifier\n",
        "dc = DecisionTreeClassifier()\n",
        "CV_dc = GridSearchCV(estimator= dc, param_grid = param_grid, cv= 5, verbose = 1, n_jobs=-1)\n",
        "CV_dc.fit(x_train, y_train)"
      ],
      "execution_count": 127,
      "outputs": [
        {
          "output_type": "stream",
          "text": [
            "Fitting 5 folds for each of 162 candidates, totalling 810 fits\n"
          ],
          "name": "stdout"
        },
        {
          "output_type": "stream",
          "text": [
            "[Parallel(n_jobs=-1)]: Using backend LokyBackend with 2 concurrent workers.\n",
            "[Parallel(n_jobs=-1)]: Done 746 tasks      | elapsed:    2.1s\n",
            "[Parallel(n_jobs=-1)]: Done 810 out of 810 | elapsed:    2.2s finished\n"
          ],
          "name": "stderr"
        },
        {
          "output_type": "execute_result",
          "data": {
            "text/plain": [
              "GridSearchCV(cv=5, error_score=nan,\n",
              "             estimator=DecisionTreeClassifier(ccp_alpha=0.0, class_weight=None,\n",
              "                                              criterion='gini', max_depth=None,\n",
              "                                              max_features=None,\n",
              "                                              max_leaf_nodes=None,\n",
              "                                              min_impurity_decrease=0.0,\n",
              "                                              min_impurity_split=None,\n",
              "                                              min_samples_leaf=1,\n",
              "                                              min_samples_split=2,\n",
              "                                              min_weight_fraction_leaf=0.0,\n",
              "                                              presort='deprecated',\n",
              "                                              random_state=None,\n",
              "                                              splitter='best'),\n",
              "             iid='deprecated', n_jobs=-1,\n",
              "             param_grid={'criterion': ['gini', 'entropy'],\n",
              "                         'max_depth': range(1, 10),\n",
              "                         'min_samples_split': range(1, 10)},\n",
              "             pre_dispatch='2*n_jobs', refit=True, return_train_score=False,\n",
              "             scoring=None, verbose=1)"
            ]
          },
          "metadata": {
            "tags": []
          },
          "execution_count": 127
        }
      ]
    },
    {
      "cell_type": "code",
      "metadata": {
        "colab": {
          "base_uri": "https://localhost:8080/"
        },
        "id": "riWlYFHMyQbF",
        "outputId": "d9d3c99a-a5f9-4c3e-a4fa-78d6449146ac"
      },
      "source": [
        "print(CV_dc.best_params_)\n",
        "print(CV_dc.best_score_)"
      ],
      "execution_count": 128,
      "outputs": [
        {
          "output_type": "stream",
          "text": [
            "{'criterion': 'entropy', 'max_depth': 3, 'min_samples_split': 2}\n",
            "0.7740392156862745\n"
          ],
          "name": "stdout"
        }
      ]
    },
    {
      "cell_type": "code",
      "metadata": {
        "id": "Pc70orKBqUhe"
      },
      "source": [
        "decision_tree = DecisionTreeClassifier(criterion= 'entropy', max_depth= 3,min_samples_split=2)"
      ],
      "execution_count": 129,
      "outputs": []
    },
    {
      "cell_type": "markdown",
      "metadata": {
        "id": "yS1KP7o-FN6d"
      },
      "source": [
        "### Cross Validation"
      ]
    },
    {
      "cell_type": "code",
      "metadata": {
        "colab": {
          "base_uri": "https://localhost:8080/"
        },
        "id": "zVw78fmiFNl3",
        "outputId": "d702ff07-c655-4d2e-ac37-4814dd9dfcf9"
      },
      "source": [
        "scores = cross_val_score(decision_tree,x_train,y_train,cv=5)\n",
        "\n",
        "print('Mean score:',scores.mean())"
      ],
      "execution_count": 215,
      "outputs": [
        {
          "output_type": "stream",
          "text": [
            "Mean score: 0.7740392156862745\n"
          ],
          "name": "stdout"
        }
      ]
    },
    {
      "cell_type": "markdown",
      "metadata": {
        "id": "lnYjp0khFcUe"
      },
      "source": [
        "### Fitting the model"
      ]
    },
    {
      "cell_type": "code",
      "metadata": {
        "id": "GhQcl4zBqmK2",
        "colab": {
          "base_uri": "https://localhost:8080/"
        },
        "outputId": "f76be470-16ff-4c4b-d1ca-6186b51f2207"
      },
      "source": [
        "decision_tree.fit(x_train, y_train)"
      ],
      "execution_count": 216,
      "outputs": [
        {
          "output_type": "execute_result",
          "data": {
            "text/plain": [
              "DecisionTreeClassifier(ccp_alpha=0.0, class_weight=None, criterion='entropy',\n",
              "                       max_depth=3, max_features=None, max_leaf_nodes=None,\n",
              "                       min_impurity_decrease=0.0, min_impurity_split=None,\n",
              "                       min_samples_leaf=1, min_samples_split=2,\n",
              "                       min_weight_fraction_leaf=0.0, presort='deprecated',\n",
              "                       random_state=None, splitter='best')"
            ]
          },
          "metadata": {
            "tags": []
          },
          "execution_count": 216
        }
      ]
    },
    {
      "cell_type": "code",
      "metadata": {
        "id": "4ysDBSyFrIyL",
        "colab": {
          "base_uri": "https://localhost:8080/"
        },
        "outputId": "7bcddd6e-f62e-433b-e0fd-e53e64dcd6ec"
      },
      "source": [
        "y_pred = decision_tree.predict(x_test)\n",
        "dc_acc = acc(y_pred,y_test)\n",
        "\n",
        "print('Accuracy:',dc_acc)\n",
        "\n",
        "print('\\n')\n",
        "\n",
        "print(classification_report(y_test, y_pred))"
      ],
      "execution_count": 217,
      "outputs": [
        {
          "output_type": "stream",
          "text": [
            "Accuracy: 0.82\n",
            "\n",
            "\n",
            "              precision    recall  f1-score   support\n",
            "\n",
            "         0.0       0.85      0.74      0.79        23\n",
            "         1.0       0.80      0.89      0.84        27\n",
            "\n",
            "    accuracy                           0.82        50\n",
            "   macro avg       0.82      0.81      0.82        50\n",
            "weighted avg       0.82      0.82      0.82        50\n",
            "\n"
          ],
          "name": "stdout"
        }
      ]
    },
    {
      "cell_type": "code",
      "metadata": {
        "id": "OYf8rpFAxG34",
        "colab": {
          "base_uri": "https://localhost:8080/"
        },
        "outputId": "fd2432d0-61a7-4264-e15d-72479c87d28c"
      },
      "source": [
        "confusion_matrix(y_test, y_pred)"
      ],
      "execution_count": 218,
      "outputs": [
        {
          "output_type": "execute_result",
          "data": {
            "text/plain": [
              "array([[17,  6],\n",
              "       [ 3, 24]])"
            ]
          },
          "metadata": {
            "tags": []
          },
          "execution_count": 218
        }
      ]
    },
    {
      "cell_type": "code",
      "metadata": {
        "colab": {
          "base_uri": "https://localhost:8080/"
        },
        "id": "-XVfVT5kyoWK",
        "outputId": "32bedfd2-6b77-4171-b5b3-ee5aab9c72f3"
      },
      "source": [
        "# Accuracy of Decision Tree after excluding 'fbs' and 'chol'\n",
        "\n",
        "new_features = data[['age','sex','cp','trestbps','restecg','thalach','exang','oldpeak','slope','ca','thal']]\n",
        "target = data['target']\n",
        "from sklearn.model_selection import train_test_split\n",
        "\n",
        "x_train2,x_test2,y_train2,y_test2 = train_test_split(new_features,target,test_size=0.2,random_state=0)\n",
        "\n",
        "print(x_train2.shape)\n",
        "print(x_test2.shape)\n",
        "print(y_train2.shape)\n",
        "print(y_test2.shape)"
      ],
      "execution_count": 219,
      "outputs": [
        {
          "output_type": "stream",
          "text": [
            "(242, 11)\n",
            "(61, 11)\n",
            "(242,)\n",
            "(61,)\n"
          ],
          "name": "stdout"
        }
      ]
    },
    {
      "cell_type": "code",
      "metadata": {
        "id": "J0SkZGicyyse"
      },
      "source": [
        "decision_tree = DecisionTreeClassifier(criterion= 'entropy', max_depth= 3,min_samples_split=2)"
      ],
      "execution_count": 220,
      "outputs": []
    },
    {
      "cell_type": "code",
      "metadata": {
        "colab": {
          "base_uri": "https://localhost:8080/"
        },
        "id": "HrwYfeGHyys3",
        "outputId": "f0b12246-d9e8-4885-ea40-503b93be630d"
      },
      "source": [
        "decision_tree.fit(x_train2, y_train2)"
      ],
      "execution_count": 221,
      "outputs": [
        {
          "output_type": "execute_result",
          "data": {
            "text/plain": [
              "DecisionTreeClassifier(ccp_alpha=0.0, class_weight=None, criterion='entropy',\n",
              "                       max_depth=3, max_features=None, max_leaf_nodes=None,\n",
              "                       min_impurity_decrease=0.0, min_impurity_split=None,\n",
              "                       min_samples_leaf=1, min_samples_split=2,\n",
              "                       min_weight_fraction_leaf=0.0, presort='deprecated',\n",
              "                       random_state=None, splitter='best')"
            ]
          },
          "metadata": {
            "tags": []
          },
          "execution_count": 221
        }
      ]
    },
    {
      "cell_type": "code",
      "metadata": {
        "colab": {
          "base_uri": "https://localhost:8080/"
        },
        "id": "gOk4QKcEyys4",
        "outputId": "24529c46-021f-4048-bb97-ffd4b2edbf79"
      },
      "source": [
        "y_pred = decision_tree.predict(x_test2)\n",
        "dc_acc2 = acc(y_pred,y_test2)\n",
        "\n",
        "print(dc_acc2)\n",
        "\n",
        "print('\\n')\n",
        "\n",
        "print(metrics.classification_report(y_test2, y_pred))\n",
        "# Accuracy decreases by 4%"
      ],
      "execution_count": 222,
      "outputs": [
        {
          "output_type": "stream",
          "text": [
            "0.7868852459016393\n",
            "\n",
            "\n",
            "              precision    recall  f1-score   support\n",
            "\n",
            "           0       0.80      0.71      0.75        28\n",
            "           1       0.78      0.85      0.81        33\n",
            "\n",
            "    accuracy                           0.79        61\n",
            "   macro avg       0.79      0.78      0.78        61\n",
            "weighted avg       0.79      0.79      0.79        61\n",
            "\n"
          ],
          "name": "stdout"
        }
      ]
    },
    {
      "cell_type": "code",
      "metadata": {
        "id": "ha6vKpqqy30L"
      },
      "source": [
        "tree.plot_tree(decision_tree)"
      ],
      "execution_count": null,
      "outputs": []
    },
    {
      "cell_type": "code",
      "metadata": {
        "id": "gdpJOM_jzgAi"
      },
      "source": [
        "import graphviz\n",
        "dot_data = tree.export_graphviz(decision_tree, out_file=None,\n",
        "                                feature_names= x_train.columns,\n",
        "                                filled=True, rounded=True,\n",
        "                                special_characters=True)  \n",
        "graph = graphviz.Source(dot_data) \n",
        "graph.render(\"heart_disease\", format = 'png') "
      ],
      "execution_count": null,
      "outputs": []
    },
    {
      "cell_type": "markdown",
      "metadata": {
        "id": "PCZoA9ze4Ubg"
      },
      "source": [
        "![heart_disease.png](data:image/png;base64,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)"
      ]
    },
    {
      "cell_type": "markdown",
      "metadata": {
        "id": "Rm180mr-4QLM"
      },
      "source": [
        "## K-Nearest Neighbours"
      ]
    },
    {
      "cell_type": "markdown",
      "metadata": {
        "id": "ghPTbCEkFmYy"
      },
      "source": [
        "### Hyperparameter Tuning"
      ]
    },
    {
      "cell_type": "code",
      "metadata": {
        "id": "VhdxjJO80TMc"
      },
      "source": [
        "param_grid = {'n_neighbors': range(2,20),\n",
        "          'leaf_size':range(2,16),\n",
        "          'weights':['uniform', 'distance'],\n",
        "          'algorithm':['auto', 'ball_tree','kd_tree','brute']}"
      ],
      "execution_count": 137,
      "outputs": []
    },
    {
      "cell_type": "code",
      "metadata": {
        "colab": {
          "base_uri": "https://localhost:8080/"
        },
        "id": "Vic9xIm36_8m",
        "outputId": "960e8152-a6f1-475e-c900-9db69aeb2cdb"
      },
      "source": [
        "knn = neighbors.KNeighborsClassifier()\n",
        "CV_knn = GridSearchCV(estimator= knn, param_grid = param_grid, cv= 5, verbose = 1, n_jobs=-1)\n",
        "CV_knn.fit(x_train, y_train)"
      ],
      "execution_count": 138,
      "outputs": [
        {
          "output_type": "stream",
          "text": [
            "Fitting 5 folds for each of 2016 candidates, totalling 10080 fits\n"
          ],
          "name": "stdout"
        },
        {
          "output_type": "stream",
          "text": [
            "[Parallel(n_jobs=-1)]: Using backend LokyBackend with 2 concurrent workers.\n",
            "[Parallel(n_jobs=-1)]: Done 956 tasks      | elapsed:    3.7s\n",
            "[Parallel(n_jobs=-1)]: Done 5756 tasks      | elapsed:   20.7s\n",
            "[Parallel(n_jobs=-1)]: Done 10080 out of 10080 | elapsed:   35.6s finished\n"
          ],
          "name": "stderr"
        },
        {
          "output_type": "execute_result",
          "data": {
            "text/plain": [
              "GridSearchCV(cv=5, error_score=nan,\n",
              "             estimator=KNeighborsClassifier(algorithm='auto', leaf_size=30,\n",
              "                                            metric='minkowski',\n",
              "                                            metric_params=None, n_jobs=None,\n",
              "                                            n_neighbors=5, p=2,\n",
              "                                            weights='uniform'),\n",
              "             iid='deprecated', n_jobs=-1,\n",
              "             param_grid={'algorithm': ['auto', 'ball_tree', 'kd_tree', 'brute'],\n",
              "                         'leaf_size': range(2, 16), 'n_neighbors': range(2, 20),\n",
              "                         'weights': ['uniform', 'distance']},\n",
              "             pre_dispatch='2*n_jobs', refit=True, return_train_score=False,\n",
              "             scoring=None, verbose=1)"
            ]
          },
          "metadata": {
            "tags": []
          },
          "execution_count": 138
        }
      ]
    },
    {
      "cell_type": "code",
      "metadata": {
        "colab": {
          "base_uri": "https://localhost:8080/"
        },
        "id": "pIEebXKYzM5s",
        "outputId": "ca14d99a-29cf-4e2b-d668-195b4ef08735"
      },
      "source": [
        "print(CV_knn.best_params_)\n",
        "print(CV_knn.best_score_)"
      ],
      "execution_count": 139,
      "outputs": [
        {
          "output_type": "stream",
          "text": [
            "{'algorithm': 'auto', 'leaf_size': 2, 'n_neighbors': 19, 'weights': 'uniform'}\n",
            "0.6704313725490195\n"
          ],
          "name": "stdout"
        }
      ]
    },
    {
      "cell_type": "markdown",
      "metadata": {
        "id": "Xec5kN8tFrWq"
      },
      "source": [
        "### Cross Validation"
      ]
    },
    {
      "cell_type": "code",
      "metadata": {
        "colab": {
          "base_uri": "https://localhost:8080/"
        },
        "id": "7K9K0pg57S1J",
        "outputId": "fedb8451-1bc5-455f-8e2c-526fde63740d"
      },
      "source": [
        "neighbours = neighbors.KNeighborsClassifier(algorithm= 'auto', leaf_size= 2, n_neighbors=9, weights = 'uniform')"
      ],
      "execution_count": 140,
      "outputs": [
        {
          "output_type": "execute_result",
          "data": {
            "text/plain": [
              "KNeighborsClassifier(algorithm='auto', leaf_size=2, metric='minkowski',\n",
              "                     metric_params=None, n_jobs=None, n_neighbors=9, p=2,\n",
              "                     weights='uniform')"
            ]
          },
          "metadata": {
            "tags": []
          },
          "execution_count": 140
        }
      ]
    },
    {
      "cell_type": "code",
      "metadata": {
        "colab": {
          "base_uri": "https://localhost:8080/"
        },
        "id": "UNnM0ScbF2iT",
        "outputId": "b0685145-4f14-4827-9b48-917068be3a8c"
      },
      "source": [
        "scores = cross_val_score(neighbours,x_train,y_train,cv=5)\n",
        "\n",
        "print('Mean score:',scores.mean())"
      ],
      "execution_count": 223,
      "outputs": [
        {
          "output_type": "stream",
          "text": [
            "Mean score: 0.6424313725490196\n"
          ],
          "name": "stdout"
        },
        {
          "output_type": "stream",
          "text": [
            "/usr/local/lib/python3.7/dist-packages/sklearn/model_selection/_validation.py:515: DataConversionWarning: A column-vector y was passed when a 1d array was expected. Please change the shape of y to (n_samples, ), for example using ravel().\n",
            "  estimator.fit(X_train, y_train, **fit_params)\n",
            "/usr/local/lib/python3.7/dist-packages/sklearn/model_selection/_validation.py:515: DataConversionWarning: A column-vector y was passed when a 1d array was expected. Please change the shape of y to (n_samples, ), for example using ravel().\n",
            "  estimator.fit(X_train, y_train, **fit_params)\n",
            "/usr/local/lib/python3.7/dist-packages/sklearn/model_selection/_validation.py:515: DataConversionWarning: A column-vector y was passed when a 1d array was expected. Please change the shape of y to (n_samples, ), for example using ravel().\n",
            "  estimator.fit(X_train, y_train, **fit_params)\n",
            "/usr/local/lib/python3.7/dist-packages/sklearn/model_selection/_validation.py:515: DataConversionWarning: A column-vector y was passed when a 1d array was expected. Please change the shape of y to (n_samples, ), for example using ravel().\n",
            "  estimator.fit(X_train, y_train, **fit_params)\n",
            "/usr/local/lib/python3.7/dist-packages/sklearn/model_selection/_validation.py:515: DataConversionWarning: A column-vector y was passed when a 1d array was expected. Please change the shape of y to (n_samples, ), for example using ravel().\n",
            "  estimator.fit(X_train, y_train, **fit_params)\n"
          ],
          "name": "stderr"
        }
      ]
    },
    {
      "cell_type": "markdown",
      "metadata": {
        "id": "V79qQTbSFvJj"
      },
      "source": [
        "### Fitting the model"
      ]
    },
    {
      "cell_type": "code",
      "metadata": {
        "colab": {
          "base_uri": "https://localhost:8080/"
        },
        "id": "UQ-zVN0hFyb7",
        "outputId": "4f6c6417-79d8-4749-a481-21ca4063480a"
      },
      "source": [
        "neighbours.fit(x_train, y_train)"
      ],
      "execution_count": 224,
      "outputs": [
        {
          "output_type": "stream",
          "text": [
            "/usr/local/lib/python3.7/dist-packages/ipykernel_launcher.py:1: DataConversionWarning: A column-vector y was passed when a 1d array was expected. Please change the shape of y to (n_samples, ), for example using ravel().\n",
            "  \"\"\"Entry point for launching an IPython kernel.\n"
          ],
          "name": "stderr"
        },
        {
          "output_type": "execute_result",
          "data": {
            "text/plain": [
              "KNeighborsClassifier(algorithm='auto', leaf_size=2, metric='minkowski',\n",
              "                     metric_params=None, n_jobs=None, n_neighbors=9, p=2,\n",
              "                     weights='uniform')"
            ]
          },
          "metadata": {
            "tags": []
          },
          "execution_count": 224
        }
      ]
    },
    {
      "cell_type": "code",
      "metadata": {
        "colab": {
          "base_uri": "https://localhost:8080/"
        },
        "id": "RghwrXLR8wfU",
        "outputId": "0a360c3d-7998-48f4-c63d-e705efe0c8cb"
      },
      "source": [
        "y_pred = neighbours.predict(x_train)\n",
        "print(metrics.classification_report(y_train, y_pred))"
      ],
      "execution_count": 226,
      "outputs": [
        {
          "output_type": "stream",
          "text": [
            "              precision    recall  f1-score   support\n",
            "\n",
            "         0.0       0.72      0.61      0.66       114\n",
            "         1.0       0.71      0.80      0.76       138\n",
            "\n",
            "    accuracy                           0.71       252\n",
            "   macro avg       0.72      0.70      0.71       252\n",
            "weighted avg       0.71      0.71      0.71       252\n",
            "\n"
          ],
          "name": "stdout"
        }
      ]
    },
    {
      "cell_type": "code",
      "metadata": {
        "colab": {
          "base_uri": "https://localhost:8080/"
        },
        "id": "F4KCxuxX88yi",
        "outputId": "17dd5636-04ac-4b5d-a00d-5fe82041c2d9"
      },
      "source": [
        "y_pred = neighbours.predict(x_test)\n",
        "knn_acc = acc(y_pred,y_test)\n",
        "\n",
        "print('Accuracy:',knn_acc)\n",
        "print('\\n')\n",
        "print(metrics.classification_report(y_test, y_pred))\n",
        "\n"
      ],
      "execution_count": 227,
      "outputs": [
        {
          "output_type": "stream",
          "text": [
            "Accuracy: 0.58\n",
            "\n",
            "\n",
            "              precision    recall  f1-score   support\n",
            "\n",
            "         0.0       0.55      0.52      0.53        23\n",
            "         1.0       0.61      0.63      0.62        27\n",
            "\n",
            "    accuracy                           0.58        50\n",
            "   macro avg       0.58      0.58      0.58        50\n",
            "weighted avg       0.58      0.58      0.58        50\n",
            "\n"
          ],
          "name": "stdout"
        }
      ]
    },
    {
      "cell_type": "code",
      "metadata": {
        "colab": {
          "base_uri": "https://localhost:8080/"
        },
        "id": "VS9_zBXL9G6U",
        "outputId": "0b4ebcb1-ed83-41bb-db01-3d27eb59cc68"
      },
      "source": [
        "print(metrics.classification_report(y_test, y_pred))"
      ],
      "execution_count": 228,
      "outputs": [
        {
          "output_type": "stream",
          "text": [
            "              precision    recall  f1-score   support\n",
            "\n",
            "         0.0       0.55      0.52      0.53        23\n",
            "         1.0       0.61      0.63      0.62        27\n",
            "\n",
            "    accuracy                           0.58        50\n",
            "   macro avg       0.58      0.58      0.58        50\n",
            "weighted avg       0.58      0.58      0.58        50\n",
            "\n"
          ],
          "name": "stdout"
        }
      ]
    },
    {
      "cell_type": "code",
      "metadata": {
        "colab": {
          "base_uri": "https://localhost:8080/"
        },
        "id": "htrJ9mrHzyij",
        "outputId": "9bd33df2-c1e5-4161-fa41-ae6d1440f3a7"
      },
      "source": [
        "# Accuracy of KNN after excluding 'fbs' and 'chol'\n",
        "\n",
        "new_features = data[['age','sex','cp','trestbps','restecg','thalach','exang','oldpeak','slope','ca','thal']]\n",
        "target = data['target']\n",
        "from sklearn.model_selection import train_test_split\n",
        "\n",
        "x_train2,x_test2,y_train2,y_test2 = train_test_split(new_features,target,test_size=0.2,random_state=0)\n",
        "\n",
        "print(x_train2.shape)\n",
        "print(x_test2.shape)\n",
        "print(y_train2.shape)\n",
        "print(y_test2.shape)"
      ],
      "execution_count": 229,
      "outputs": [
        {
          "output_type": "stream",
          "text": [
            "(242, 11)\n",
            "(61, 11)\n",
            "(242,)\n",
            "(61,)\n"
          ],
          "name": "stdout"
        }
      ]
    },
    {
      "cell_type": "code",
      "metadata": {
        "colab": {
          "base_uri": "https://localhost:8080/"
        },
        "id": "y4KaBOk-z28u",
        "outputId": "f32c7303-4b77-4939-a515-377d3487ae65"
      },
      "source": [
        "neighbours.fit(x_train2, y_train2)\n"
      ],
      "execution_count": 230,
      "outputs": [
        {
          "output_type": "execute_result",
          "data": {
            "text/plain": [
              "KNeighborsClassifier(algorithm='auto', leaf_size=2, metric='minkowski',\n",
              "                     metric_params=None, n_jobs=None, n_neighbors=9, p=2,\n",
              "                     weights='uniform')"
            ]
          },
          "metadata": {
            "tags": []
          },
          "execution_count": 230
        }
      ]
    },
    {
      "cell_type": "code",
      "metadata": {
        "colab": {
          "base_uri": "https://localhost:8080/"
        },
        "id": "MONlQ0_qz9Y2",
        "outputId": "66a06de0-d8ea-491b-ce79-d9cb94e6459a"
      },
      "source": [
        "y_pred = neighbours.predict(x_test2)\n",
        "knn_acc2 = acc(y_pred,y_test2)\n",
        "\n",
        "print('Accuracy:',knn_acc2)\n",
        "print('\\n')\n",
        "# Accuracy increases by 7%"
      ],
      "execution_count": 231,
      "outputs": [
        {
          "output_type": "stream",
          "text": [
            "Accuracy: 0.6557377049180327\n",
            "\n",
            "\n"
          ],
          "name": "stdout"
        }
      ]
    },
    {
      "cell_type": "code",
      "metadata": {
        "colab": {
          "base_uri": "https://localhost:8080/"
        },
        "id": "QdtuwnkFBxWQ",
        "outputId": "c5dffbd9-8265-4ae6-9379-03fb1ff2d45f"
      },
      "source": [
        "print(classification_report(y_test2, y_pred))"
      ],
      "execution_count": 232,
      "outputs": [
        {
          "output_type": "stream",
          "text": [
            "              precision    recall  f1-score   support\n",
            "\n",
            "           0       0.67      0.50      0.57        28\n",
            "           1       0.65      0.79      0.71        33\n",
            "\n",
            "    accuracy                           0.66        61\n",
            "   macro avg       0.66      0.64      0.64        61\n",
            "weighted avg       0.66      0.66      0.65        61\n",
            "\n"
          ],
          "name": "stdout"
        }
      ]
    },
    {
      "cell_type": "markdown",
      "metadata": {
        "id": "8XTko1XUNFGM"
      },
      "source": [
        "## Support Vector Machines"
      ]
    },
    {
      "cell_type": "code",
      "metadata": {
        "colab": {
          "base_uri": "https://localhost:8080/"
        },
        "id": "e8SnvI0JKRgo",
        "outputId": "73fd5dd6-eccc-4a15-98d6-5f5a6d85b801"
      },
      "source": [
        "param_grid = {'C': [0.1, 1, 10, 100, 1000],  \n",
        "              'gamma': [1, 0.1, 0.01, 0.001, 0.0001], \n",
        "              'kernel': ['rbf']}  \n",
        "\n",
        "svm = svm.SVC()\n",
        "CV_svm = GridSearchCV(estimator= svm, param_grid = param_grid, cv= 5, verbose = 1, n_jobs=-1)\n",
        "CV_svm.fit(x_train, y_train)\n",
        "print(CV_svm.best_params_)\n",
        "print(CV_svm.best_score_)"
      ],
      "execution_count": null,
      "outputs": [
        {
          "output_type": "stream",
          "text": [
            "Fitting 5 folds for each of 25 candidates, totalling 125 fits\n"
          ],
          "name": "stdout"
        },
        {
          "output_type": "stream",
          "text": [
            "[Parallel(n_jobs=-1)]: Using backend LokyBackend with 2 concurrent workers.\n"
          ],
          "name": "stderr"
        },
        {
          "output_type": "stream",
          "text": [
            "{'C': 100, 'gamma': 0.0001, 'kernel': 'rbf'}\n",
            "0.7976470588235294\n"
          ],
          "name": "stdout"
        },
        {
          "output_type": "stream",
          "text": [
            "[Parallel(n_jobs=-1)]: Done 125 out of 125 | elapsed:    0.7s finished\n"
          ],
          "name": "stderr"
        }
      ]
    },
    {
      "cell_type": "code",
      "metadata": {
        "colab": {
          "base_uri": "https://localhost:8080/"
        },
        "id": "rhdwdGsxN73u",
        "outputId": "15cbcbdb-b0c7-4ba3-9af0-6a24cf322a58"
      },
      "source": [
        "svmc = svm.SVC(C = 100, gamma = 0.0001, kernel = 'rbf')\n",
        "svmc.fit(x_train, y_train)"
      ],
      "execution_count": null,
      "outputs": [
        {
          "output_type": "execute_result",
          "data": {
            "text/plain": [
              "SVC(C=100, break_ties=False, cache_size=200, class_weight=None, coef0=0.0,\n",
              "    decision_function_shape='ovr', degree=3, gamma=0.0001, kernel='rbf',\n",
              "    max_iter=-1, probability=False, random_state=None, shrinking=True,\n",
              "    tol=0.001, verbose=False)"
            ]
          },
          "metadata": {
            "tags": []
          },
          "execution_count": 111
        }
      ]
    },
    {
      "cell_type": "code",
      "metadata": {
        "colab": {
          "base_uri": "https://localhost:8080/"
        },
        "id": "BcQJtX0ZO5JN",
        "outputId": "fcf9ee5e-f32c-442d-f4ae-f612a16786d4"
      },
      "source": [
        "y_pred = svmc.predict(x_train)\n",
        "metrics.classification_report(y_train, y_pred, output_dict=True)"
      ],
      "execution_count": null,
      "outputs": [
        {
          "output_type": "execute_result",
          "data": {
            "text/plain": [
              "{'0': {'f1-score': 0.8292682926829269,\n",
              "  'precision': 0.9444444444444444,\n",
              "  'recall': 0.7391304347826086,\n",
              "  'support': 115},\n",
              " '1': {'f1-score': 0.882943143812709,\n",
              "  'precision': 0.8148148148148148,\n",
              "  'recall': 0.9635036496350365,\n",
              "  'support': 137},\n",
              " 'accuracy': 0.8611111111111112,\n",
              " 'macro avg': {'f1-score': 0.856105718247818,\n",
              "  'precision': 0.8796296296296295,\n",
              "  'recall': 0.8513170422088225,\n",
              "  'support': 252},\n",
              " 'weighted avg': {'f1-score': 0.8584486680987212,\n",
              "  'precision': 0.8739711934156378,\n",
              "  'recall': 0.8611111111111112,\n",
              "  'support': 252}}"
            ]
          },
          "metadata": {
            "tags": []
          },
          "execution_count": 112
        }
      ]
    },
    {
      "cell_type": "code",
      "metadata": {
        "colab": {
          "base_uri": "https://localhost:8080/"
        },
        "id": "8dyC6X6WPMrn",
        "outputId": "201c03b0-034a-4baf-e02f-19d9c9111615"
      },
      "source": [
        "y_pred = svmc.predict(x_test)\n",
        "metrics.classification_report(y_test, y_pred, output_dict=True)"
      ],
      "execution_count": null,
      "outputs": [
        {
          "output_type": "execute_result",
          "data": {
            "text/plain": [
              "{'0': {'f1-score': 0.7000000000000001,\n",
              "  'precision': 0.7777777777777778,\n",
              "  'recall': 0.6363636363636364,\n",
              "  'support': 22},\n",
              " '1': {'f1-score': 0.7999999999999999,\n",
              "  'precision': 0.75,\n",
              "  'recall': 0.8571428571428571,\n",
              "  'support': 28},\n",
              " 'accuracy': 0.76,\n",
              " 'macro avg': {'f1-score': 0.75,\n",
              "  'precision': 0.7638888888888888,\n",
              "  'recall': 0.7467532467532467,\n",
              "  'support': 50},\n",
              " 'weighted avg': {'f1-score': 0.7559999999999999,\n",
              "  'precision': 0.7622222222222222,\n",
              "  'recall': 0.76,\n",
              "  'support': 50}}"
            ]
          },
          "metadata": {
            "tags": []
          },
          "execution_count": 113
        }
      ]
    },
    {
      "cell_type": "code",
      "metadata": {
        "colab": {
          "base_uri": "https://localhost:8080/"
        },
        "id": "1gF2g9y9PbYq",
        "outputId": "daa33d24-dac4-4867-c2bf-ee91cae0d90a"
      },
      "source": [
        "metrics.confusion_matrix(y_test, y_pred)"
      ],
      "execution_count": null,
      "outputs": [
        {
          "output_type": "execute_result",
          "data": {
            "text/plain": [
              "array([[14,  8],\n",
              "       [ 4, 24]])"
            ]
          },
          "metadata": {
            "tags": []
          },
          "execution_count": 114
        }
      ]
    },
    {
      "cell_type": "markdown",
      "metadata": {
        "id": "0-Gm9GPIodBI"
      },
      "source": [
        "### Neural Network"
      ]
    },
    {
      "cell_type": "code",
      "metadata": {
        "id": "NWoOVH7N2qqO"
      },
      "source": [
        "import tensorflow as tf\n",
        "from keras.models import Sequential\n",
        "from keras.layers import Dense,Dropout,BatchNormalization,LeakyReLU\n",
        "from keras.optimizers import Adam"
      ],
      "execution_count": 233,
      "outputs": []
    },
    {
      "cell_type": "code",
      "metadata": {
        "id": "Gk6AjF_HpTaf"
      },
      "source": [
        "x_train = np.asarray(x_train).astype('float')\n",
        "x_test = np.asarray(x_test).astype('float')\n",
        "y_train = np.asarray(y_train).astype('float')\n",
        "y_test = np.asarray(y_test).astype('float')"
      ],
      "execution_count": 234,
      "outputs": []
    },
    {
      "cell_type": "code",
      "metadata": {
        "colab": {
          "base_uri": "https://localhost:8080/"
        },
        "id": "7urN95fnow7P",
        "outputId": "db6fde09-f014-4b47-cc68-c0862c4000af"
      },
      "source": [
        "print(x_train.shape)\n",
        "print(x_test.shape)\n",
        "print(y_train.shape)\n",
        "print(y_test.shape)"
      ],
      "execution_count": 235,
      "outputs": [
        {
          "output_type": "stream",
          "text": [
            "(252, 13)\n",
            "(50, 13)\n",
            "(252, 1)\n",
            "(50, 1)\n"
          ],
          "name": "stdout"
        }
      ]
    },
    {
      "cell_type": "code",
      "metadata": {
        "id": "-uauR4KspGjI"
      },
      "source": [
        "y_train = y_train.reshape(-1,1)\n",
        "y_test = y_test.reshape(-1,1)"
      ],
      "execution_count": 236,
      "outputs": []
    },
    {
      "cell_type": "code",
      "metadata": {
        "colab": {
          "base_uri": "https://localhost:8080/"
        },
        "id": "IcIvq_ipo4Y-",
        "outputId": "23413f68-50f0-4248-a0e7-75a33d1d244a"
      },
      "source": [
        "nn = Sequential()\n",
        "\n",
        "nn.add(Dense(16,activation='relu',input_shape=(13,)))\n",
        "nn.add(Dense(32,activation='relu'))\n",
        "nn.add(Dense(64,activation='relu'))\n",
        "nn.add(BatchNormalization())\n",
        "\n",
        "nn.add(Dense(1,activation='sigmoid'))\n",
        "nn.summary()"
      ],
      "execution_count": 265,
      "outputs": [
        {
          "output_type": "stream",
          "text": [
            "Model: \"sequential_30\"\n",
            "_________________________________________________________________\n",
            "Layer (type)                 Output Shape              Param #   \n",
            "=================================================================\n",
            "dense_114 (Dense)            (None, 16)                224       \n",
            "_________________________________________________________________\n",
            "dense_115 (Dense)            (None, 32)                544       \n",
            "_________________________________________________________________\n",
            "dense_116 (Dense)            (None, 64)                2112      \n",
            "_________________________________________________________________\n",
            "batch_normalization_22 (Batc (None, 64)                256       \n",
            "_________________________________________________________________\n",
            "dense_117 (Dense)            (None, 1)                 65        \n",
            "=================================================================\n",
            "Total params: 3,201\n",
            "Trainable params: 3,073\n",
            "Non-trainable params: 128\n",
            "_________________________________________________________________\n"
          ],
          "name": "stdout"
        }
      ]
    },
    {
      "cell_type": "code",
      "metadata": {
        "id": "YA3Q46CmpwxO"
      },
      "source": [
        "nn.compile(optimizer='rmsprop',loss='binary_crossentropy',metrics=['accuracy'])"
      ],
      "execution_count": 266,
      "outputs": []
    },
    {
      "cell_type": "code",
      "metadata": {
        "colab": {
          "base_uri": "https://localhost:8080/"
        },
        "id": "VgGX1X9kqHqV",
        "outputId": "77422019-472e-4395-ea47-53e72b5172c4"
      },
      "source": [
        "nn.fit(x_train,y_train,epochs=70)"
      ],
      "execution_count": 269,
      "outputs": [
        {
          "output_type": "stream",
          "text": [
            "Epoch 1/70\n",
            "8/8 [==============================] - 0s 3ms/step - loss: 0.3775 - accuracy: 0.8452\n",
            "Epoch 2/70\n",
            "8/8 [==============================] - 0s 3ms/step - loss: 0.3501 - accuracy: 0.8651\n",
            "Epoch 3/70\n",
            "8/8 [==============================] - 0s 3ms/step - loss: 0.3859 - accuracy: 0.8413\n",
            "Epoch 4/70\n",
            "8/8 [==============================] - 0s 3ms/step - loss: 0.3796 - accuracy: 0.8452\n",
            "Epoch 5/70\n",
            "8/8 [==============================] - 0s 3ms/step - loss: 0.3444 - accuracy: 0.8571\n",
            "Epoch 6/70\n",
            "8/8 [==============================] - 0s 3ms/step - loss: 0.3599 - accuracy: 0.8373\n",
            "Epoch 7/70\n",
            "8/8 [==============================] - 0s 3ms/step - loss: 0.3867 - accuracy: 0.8413\n",
            "Epoch 8/70\n",
            "8/8 [==============================] - 0s 3ms/step - loss: 0.3561 - accuracy: 0.8413\n",
            "Epoch 9/70\n",
            "8/8 [==============================] - 0s 3ms/step - loss: 0.3719 - accuracy: 0.8333\n",
            "Epoch 10/70\n",
            "8/8 [==============================] - 0s 3ms/step - loss: 0.3726 - accuracy: 0.8532\n",
            "Epoch 11/70\n",
            "8/8 [==============================] - 0s 3ms/step - loss: 0.3558 - accuracy: 0.8611\n",
            "Epoch 12/70\n",
            "8/8 [==============================] - 0s 3ms/step - loss: 0.3673 - accuracy: 0.8452\n",
            "Epoch 13/70\n",
            "8/8 [==============================] - 0s 3ms/step - loss: 0.3941 - accuracy: 0.8333\n",
            "Epoch 14/70\n",
            "8/8 [==============================] - 0s 3ms/step - loss: 0.3460 - accuracy: 0.8690\n",
            "Epoch 15/70\n",
            "8/8 [==============================] - 0s 3ms/step - loss: 0.3817 - accuracy: 0.8254\n",
            "Epoch 16/70\n",
            "8/8 [==============================] - 0s 3ms/step - loss: 0.3759 - accuracy: 0.8373\n",
            "Epoch 17/70\n",
            "8/8 [==============================] - 0s 3ms/step - loss: 0.3459 - accuracy: 0.8651\n",
            "Epoch 18/70\n",
            "8/8 [==============================] - 0s 3ms/step - loss: 0.3763 - accuracy: 0.8333\n",
            "Epoch 19/70\n",
            "8/8 [==============================] - 0s 3ms/step - loss: 0.3679 - accuracy: 0.8452\n",
            "Epoch 20/70\n",
            "8/8 [==============================] - 0s 4ms/step - loss: 0.3646 - accuracy: 0.8452\n",
            "Epoch 21/70\n",
            "8/8 [==============================] - 0s 3ms/step - loss: 0.3585 - accuracy: 0.8492\n",
            "Epoch 22/70\n",
            "8/8 [==============================] - 0s 3ms/step - loss: 0.3745 - accuracy: 0.8294\n",
            "Epoch 23/70\n",
            "8/8 [==============================] - 0s 3ms/step - loss: 0.3694 - accuracy: 0.8452\n",
            "Epoch 24/70\n",
            "8/8 [==============================] - 0s 3ms/step - loss: 0.3621 - accuracy: 0.8532\n",
            "Epoch 25/70\n",
            "8/8 [==============================] - 0s 3ms/step - loss: 0.3993 - accuracy: 0.8135\n",
            "Epoch 26/70\n",
            "8/8 [==============================] - 0s 3ms/step - loss: 0.3532 - accuracy: 0.8452\n",
            "Epoch 27/70\n",
            "8/8 [==============================] - 0s 3ms/step - loss: 0.3752 - accuracy: 0.8175\n",
            "Epoch 28/70\n",
            "8/8 [==============================] - 0s 3ms/step - loss: 0.3624 - accuracy: 0.8492\n",
            "Epoch 29/70\n",
            "8/8 [==============================] - 0s 3ms/step - loss: 0.3418 - accuracy: 0.8532\n",
            "Epoch 30/70\n",
            "8/8 [==============================] - 0s 3ms/step - loss: 0.3751 - accuracy: 0.8294\n",
            "Epoch 31/70\n",
            "8/8 [==============================] - 0s 3ms/step - loss: 0.3505 - accuracy: 0.8492\n",
            "Epoch 32/70\n",
            "8/8 [==============================] - 0s 3ms/step - loss: 0.3704 - accuracy: 0.8373\n",
            "Epoch 33/70\n",
            "8/8 [==============================] - 0s 3ms/step - loss: 0.3784 - accuracy: 0.8095\n",
            "Epoch 34/70\n",
            "8/8 [==============================] - 0s 3ms/step - loss: 0.3544 - accuracy: 0.8452\n",
            "Epoch 35/70\n",
            "8/8 [==============================] - 0s 3ms/step - loss: 0.3554 - accuracy: 0.8611\n",
            "Epoch 36/70\n",
            "8/8 [==============================] - 0s 3ms/step - loss: 0.3907 - accuracy: 0.8175\n",
            "Epoch 37/70\n",
            "8/8 [==============================] - 0s 3ms/step - loss: 0.3556 - accuracy: 0.8532\n",
            "Epoch 38/70\n",
            "8/8 [==============================] - 0s 3ms/step - loss: 0.3708 - accuracy: 0.8333\n",
            "Epoch 39/70\n",
            "8/8 [==============================] - 0s 3ms/step - loss: 0.3518 - accuracy: 0.8492\n",
            "Epoch 40/70\n",
            "8/8 [==============================] - 0s 3ms/step - loss: 0.3821 - accuracy: 0.8452\n",
            "Epoch 41/70\n",
            "8/8 [==============================] - 0s 3ms/step - loss: 0.3660 - accuracy: 0.8452\n",
            "Epoch 42/70\n",
            "8/8 [==============================] - 0s 3ms/step - loss: 0.3601 - accuracy: 0.8492\n",
            "Epoch 43/70\n",
            "8/8 [==============================] - 0s 3ms/step - loss: 0.3644 - accuracy: 0.8452\n",
            "Epoch 44/70\n",
            "8/8 [==============================] - 0s 3ms/step - loss: 0.3622 - accuracy: 0.8413\n",
            "Epoch 45/70\n",
            "8/8 [==============================] - 0s 3ms/step - loss: 0.3505 - accuracy: 0.8492\n",
            "Epoch 46/70\n",
            "8/8 [==============================] - 0s 3ms/step - loss: 0.3422 - accuracy: 0.8611\n",
            "Epoch 47/70\n",
            "8/8 [==============================] - 0s 3ms/step - loss: 0.3573 - accuracy: 0.8373\n",
            "Epoch 48/70\n",
            "8/8 [==============================] - 0s 3ms/step - loss: 0.3640 - accuracy: 0.8492\n",
            "Epoch 49/70\n",
            "8/8 [==============================] - 0s 3ms/step - loss: 0.3581 - accuracy: 0.8452\n",
            "Epoch 50/70\n",
            "8/8 [==============================] - 0s 3ms/step - loss: 0.3485 - accuracy: 0.8452\n",
            "Epoch 51/70\n",
            "8/8 [==============================] - 0s 3ms/step - loss: 0.3595 - accuracy: 0.8294\n",
            "Epoch 52/70\n",
            "8/8 [==============================] - 0s 3ms/step - loss: 0.3581 - accuracy: 0.8492\n",
            "Epoch 53/70\n",
            "8/8 [==============================] - 0s 3ms/step - loss: 0.3844 - accuracy: 0.8214\n",
            "Epoch 54/70\n",
            "8/8 [==============================] - 0s 3ms/step - loss: 0.3755 - accuracy: 0.8373\n",
            "Epoch 55/70\n",
            "8/8 [==============================] - 0s 3ms/step - loss: 0.3619 - accuracy: 0.8532\n",
            "Epoch 56/70\n",
            "8/8 [==============================] - 0s 3ms/step - loss: 0.3574 - accuracy: 0.8571\n",
            "Epoch 57/70\n",
            "8/8 [==============================] - 0s 3ms/step - loss: 0.3817 - accuracy: 0.8175\n",
            "Epoch 58/70\n",
            "8/8 [==============================] - 0s 3ms/step - loss: 0.3706 - accuracy: 0.8254\n",
            "Epoch 59/70\n",
            "8/8 [==============================] - 0s 3ms/step - loss: 0.3571 - accuracy: 0.8532\n",
            "Epoch 60/70\n",
            "8/8 [==============================] - 0s 3ms/step - loss: 0.3601 - accuracy: 0.8492\n",
            "Epoch 61/70\n",
            "8/8 [==============================] - 0s 3ms/step - loss: 0.3593 - accuracy: 0.8651\n",
            "Epoch 62/70\n",
            "8/8 [==============================] - 0s 3ms/step - loss: 0.3674 - accuracy: 0.8452\n",
            "Epoch 63/70\n",
            "8/8 [==============================] - 0s 3ms/step - loss: 0.3505 - accuracy: 0.8532\n",
            "Epoch 64/70\n",
            "8/8 [==============================] - 0s 4ms/step - loss: 0.3701 - accuracy: 0.8294\n",
            "Epoch 65/70\n",
            "8/8 [==============================] - 0s 3ms/step - loss: 0.3510 - accuracy: 0.8492\n",
            "Epoch 66/70\n",
            "8/8 [==============================] - 0s 4ms/step - loss: 0.3616 - accuracy: 0.8294\n",
            "Epoch 67/70\n",
            "8/8 [==============================] - 0s 3ms/step - loss: 0.3537 - accuracy: 0.8611\n",
            "Epoch 68/70\n",
            "8/8 [==============================] - 0s 3ms/step - loss: 0.3781 - accuracy: 0.8452\n",
            "Epoch 69/70\n",
            "8/8 [==============================] - 0s 3ms/step - loss: 0.3610 - accuracy: 0.8492\n",
            "Epoch 70/70\n",
            "8/8 [==============================] - 0s 3ms/step - loss: 0.3561 - accuracy: 0.8413\n"
          ],
          "name": "stdout"
        },
        {
          "output_type": "execute_result",
          "data": {
            "text/plain": [
              "<tensorflow.python.keras.callbacks.History at 0x7fd0d84850d0>"
            ]
          },
          "metadata": {
            "tags": []
          },
          "execution_count": 269
        }
      ]
    },
    {
      "cell_type": "code",
      "metadata": {
        "colab": {
          "base_uri": "https://localhost:8080/"
        },
        "id": "eAQfj_2nqkmz",
        "outputId": "5291c9c8-5fc4-4091-d115-43ed71542c42"
      },
      "source": [
        "nn.evaluate(x_test,y_test)"
      ],
      "execution_count": 270,
      "outputs": [
        {
          "output_type": "stream",
          "text": [
            "2/2 [==============================] - 0s 4ms/step - loss: 0.3969 - accuracy: 0.8200\n"
          ],
          "name": "stdout"
        },
        {
          "output_type": "execute_result",
          "data": {
            "text/plain": [
              "[0.39690762758255005, 0.8199999928474426]"
            ]
          },
          "metadata": {
            "tags": []
          },
          "execution_count": 270
        }
      ]
    },
    {
      "cell_type": "code",
      "metadata": {
        "id": "a4rvGxhgI-HW"
      },
      "source": [
        "# Neural Network with feature selection\n"
      ],
      "execution_count": null,
      "outputs": []
    },
    {
      "cell_type": "code",
      "metadata": {
        "id": "mW4KAogRJUoe"
      },
      "source": [
        "x_train2 = np.asarray(x_train2).astype('float')\n",
        "x_test2 = np.asarray(x_test2).astype('float')\n",
        "y_train2 = np.asarray(y_train2).astype('float')\n",
        "y_test2 = np.asarray(y_test2).astype('float')"
      ],
      "execution_count": 279,
      "outputs": []
    },
    {
      "cell_type": "code",
      "metadata": {
        "colab": {
          "base_uri": "https://localhost:8080/"
        },
        "id": "PlbH00FhJJ7c",
        "outputId": "40bcbde8-e080-4819-a844-5117ff56e0f4"
      },
      "source": [
        "nn = Sequential()\n",
        "\n",
        "nn.add(Dense(16,activation='relu',input_shape=(11,)))\n",
        "nn.add(Dense(32,activation='relu'))\n",
        "nn.add(Dense(64,activation='relu'))\n",
        "nn.add(BatchNormalization())\n",
        "\n",
        "nn.add(Dense(1,activation='sigmoid'))\n",
        "nn.summary()"
      ],
      "execution_count": 288,
      "outputs": [
        {
          "output_type": "stream",
          "text": [
            "Model: \"sequential_35\"\n",
            "_________________________________________________________________\n",
            "Layer (type)                 Output Shape              Param #   \n",
            "=================================================================\n",
            "dense_134 (Dense)            (None, 16)                192       \n",
            "_________________________________________________________________\n",
            "dense_135 (Dense)            (None, 32)                544       \n",
            "_________________________________________________________________\n",
            "dense_136 (Dense)            (None, 64)                2112      \n",
            "_________________________________________________________________\n",
            "batch_normalization_27 (Batc (None, 64)                256       \n",
            "_________________________________________________________________\n",
            "dense_137 (Dense)            (None, 1)                 65        \n",
            "=================================================================\n",
            "Total params: 3,169\n",
            "Trainable params: 3,041\n",
            "Non-trainable params: 128\n",
            "_________________________________________________________________\n"
          ],
          "name": "stdout"
        }
      ]
    },
    {
      "cell_type": "code",
      "metadata": {
        "id": "BGp_4iy5JJ76"
      },
      "source": [
        "nn.compile(optimizer='rmsprop',loss='binary_crossentropy',metrics=['accuracy'])"
      ],
      "execution_count": 289,
      "outputs": []
    },
    {
      "cell_type": "code",
      "metadata": {
        "colab": {
          "base_uri": "https://localhost:8080/"
        },
        "id": "vQTylREtJJ78",
        "outputId": "042e918f-616b-44bd-9c84-dffa5aeeede4"
      },
      "source": [
        "nn.fit(x_train2,y_train2,epochs=70)"
      ],
      "execution_count": 290,
      "outputs": [
        {
          "output_type": "stream",
          "text": [
            "Epoch 1/70\n",
            "8/8 [==============================] - 1s 3ms/step - loss: 0.9490 - accuracy: 0.4287\n",
            "Epoch 2/70\n",
            "8/8 [==============================] - 0s 3ms/step - loss: 0.6560 - accuracy: 0.6116\n",
            "Epoch 3/70\n",
            "8/8 [==============================] - 0s 3ms/step - loss: 0.6201 - accuracy: 0.6615\n",
            "Epoch 4/70\n",
            "8/8 [==============================] - 0s 3ms/step - loss: 0.5880 - accuracy: 0.6764\n",
            "Epoch 5/70\n",
            "8/8 [==============================] - 0s 3ms/step - loss: 0.5812 - accuracy: 0.7116\n",
            "Epoch 6/70\n",
            "8/8 [==============================] - 0s 3ms/step - loss: 0.5916 - accuracy: 0.7021\n",
            "Epoch 7/70\n",
            "8/8 [==============================] - 0s 3ms/step - loss: 0.5775 - accuracy: 0.6720\n",
            "Epoch 8/70\n",
            "8/8 [==============================] - 0s 3ms/step - loss: 0.6100 - accuracy: 0.6832\n",
            "Epoch 9/70\n",
            "8/8 [==============================] - 0s 3ms/step - loss: 0.5929 - accuracy: 0.6913\n",
            "Epoch 10/70\n",
            "8/8 [==============================] - 0s 3ms/step - loss: 0.5625 - accuracy: 0.7242\n",
            "Epoch 11/70\n",
            "8/8 [==============================] - 0s 3ms/step - loss: 0.5737 - accuracy: 0.7083\n",
            "Epoch 12/70\n",
            "8/8 [==============================] - 0s 3ms/step - loss: 0.5568 - accuracy: 0.7364\n",
            "Epoch 13/70\n",
            "8/8 [==============================] - 0s 3ms/step - loss: 0.5842 - accuracy: 0.7208\n",
            "Epoch 14/70\n",
            "8/8 [==============================] - 0s 4ms/step - loss: 0.5649 - accuracy: 0.6843\n",
            "Epoch 15/70\n",
            "8/8 [==============================] - 0s 3ms/step - loss: 0.5971 - accuracy: 0.6979\n",
            "Epoch 16/70\n",
            "8/8 [==============================] - 0s 3ms/step - loss: 0.5832 - accuracy: 0.7153\n",
            "Epoch 17/70\n",
            "8/8 [==============================] - 0s 3ms/step - loss: 0.5683 - accuracy: 0.7362\n",
            "Epoch 18/70\n",
            "8/8 [==============================] - 0s 3ms/step - loss: 0.5646 - accuracy: 0.7273\n",
            "Epoch 19/70\n",
            "8/8 [==============================] - 0s 3ms/step - loss: 0.5447 - accuracy: 0.7426\n",
            "Epoch 20/70\n",
            "8/8 [==============================] - 0s 3ms/step - loss: 0.5305 - accuracy: 0.7661\n",
            "Epoch 21/70\n",
            "8/8 [==============================] - 0s 3ms/step - loss: 0.5285 - accuracy: 0.7609\n",
            "Epoch 22/70\n",
            "8/8 [==============================] - 0s 3ms/step - loss: 0.5807 - accuracy: 0.6982\n",
            "Epoch 23/70\n",
            "8/8 [==============================] - 0s 3ms/step - loss: 0.5426 - accuracy: 0.7052\n",
            "Epoch 24/70\n",
            "8/8 [==============================] - 0s 3ms/step - loss: 0.5282 - accuracy: 0.7182\n",
            "Epoch 25/70\n",
            "8/8 [==============================] - 0s 3ms/step - loss: 0.5435 - accuracy: 0.7081\n",
            "Epoch 26/70\n",
            "8/8 [==============================] - 0s 3ms/step - loss: 0.5499 - accuracy: 0.6968\n",
            "Epoch 27/70\n",
            "8/8 [==============================] - 0s 3ms/step - loss: 0.5212 - accuracy: 0.7849\n",
            "Epoch 28/70\n",
            "8/8 [==============================] - 0s 3ms/step - loss: 0.5228 - accuracy: 0.7645\n",
            "Epoch 29/70\n",
            "8/8 [==============================] - 0s 3ms/step - loss: 0.5240 - accuracy: 0.7449\n",
            "Epoch 30/70\n",
            "8/8 [==============================] - 0s 3ms/step - loss: 0.5242 - accuracy: 0.7332\n",
            "Epoch 31/70\n",
            "8/8 [==============================] - 0s 3ms/step - loss: 0.5170 - accuracy: 0.7568\n",
            "Epoch 32/70\n",
            "8/8 [==============================] - 0s 3ms/step - loss: 0.5351 - accuracy: 0.7322\n",
            "Epoch 33/70\n",
            "8/8 [==============================] - 0s 3ms/step - loss: 0.5166 - accuracy: 0.7389\n",
            "Epoch 34/70\n",
            "8/8 [==============================] - 0s 3ms/step - loss: 0.5098 - accuracy: 0.7316\n",
            "Epoch 35/70\n",
            "8/8 [==============================] - 0s 3ms/step - loss: 0.5057 - accuracy: 0.7445\n",
            "Epoch 36/70\n",
            "8/8 [==============================] - 0s 3ms/step - loss: 0.4837 - accuracy: 0.7833\n",
            "Epoch 37/70\n",
            "8/8 [==============================] - 0s 3ms/step - loss: 0.4986 - accuracy: 0.7475\n",
            "Epoch 38/70\n",
            "8/8 [==============================] - 0s 3ms/step - loss: 0.5145 - accuracy: 0.7423\n",
            "Epoch 39/70\n",
            "8/8 [==============================] - 0s 3ms/step - loss: 0.4904 - accuracy: 0.7532\n",
            "Epoch 40/70\n",
            "8/8 [==============================] - 0s 3ms/step - loss: 0.5088 - accuracy: 0.7413\n",
            "Epoch 41/70\n",
            "8/8 [==============================] - 0s 3ms/step - loss: 0.5389 - accuracy: 0.7213\n",
            "Epoch 42/70\n",
            "8/8 [==============================] - 0s 3ms/step - loss: 0.4863 - accuracy: 0.7456\n",
            "Epoch 43/70\n",
            "8/8 [==============================] - 0s 4ms/step - loss: 0.5006 - accuracy: 0.7508\n",
            "Epoch 44/70\n",
            "8/8 [==============================] - 0s 3ms/step - loss: 0.5126 - accuracy: 0.6991\n",
            "Epoch 45/70\n",
            "8/8 [==============================] - 0s 3ms/step - loss: 0.4652 - accuracy: 0.7313\n",
            "Epoch 46/70\n",
            "8/8 [==============================] - 0s 3ms/step - loss: 0.4582 - accuracy: 0.7950\n",
            "Epoch 47/70\n",
            "8/8 [==============================] - 0s 3ms/step - loss: 0.4357 - accuracy: 0.8047\n",
            "Epoch 48/70\n",
            "8/8 [==============================] - 0s 3ms/step - loss: 0.4484 - accuracy: 0.7610\n",
            "Epoch 49/70\n",
            "8/8 [==============================] - 0s 3ms/step - loss: 0.4680 - accuracy: 0.7770\n",
            "Epoch 50/70\n",
            "8/8 [==============================] - 0s 3ms/step - loss: 0.4541 - accuracy: 0.7358\n",
            "Epoch 51/70\n",
            "8/8 [==============================] - 0s 3ms/step - loss: 0.4511 - accuracy: 0.7434\n",
            "Epoch 52/70\n",
            "8/8 [==============================] - 0s 3ms/step - loss: 0.4244 - accuracy: 0.7739\n",
            "Epoch 53/70\n",
            "8/8 [==============================] - 0s 3ms/step - loss: 0.4413 - accuracy: 0.7519\n",
            "Epoch 54/70\n",
            "8/8 [==============================] - 0s 3ms/step - loss: 0.4309 - accuracy: 0.7832\n",
            "Epoch 55/70\n",
            "8/8 [==============================] - 0s 3ms/step - loss: 0.4362 - accuracy: 0.7721\n",
            "Epoch 56/70\n",
            "8/8 [==============================] - 0s 3ms/step - loss: 0.4282 - accuracy: 0.8019\n",
            "Epoch 57/70\n",
            "8/8 [==============================] - 0s 3ms/step - loss: 0.4230 - accuracy: 0.7835\n",
            "Epoch 58/70\n",
            "8/8 [==============================] - 0s 3ms/step - loss: 0.4276 - accuracy: 0.7941\n",
            "Epoch 59/70\n",
            "8/8 [==============================] - 0s 3ms/step - loss: 0.4281 - accuracy: 0.7692\n",
            "Epoch 60/70\n",
            "8/8 [==============================] - 0s 3ms/step - loss: 0.4135 - accuracy: 0.8061\n",
            "Epoch 61/70\n",
            "8/8 [==============================] - 0s 3ms/step - loss: 0.4068 - accuracy: 0.7968\n",
            "Epoch 62/70\n",
            "8/8 [==============================] - 0s 3ms/step - loss: 0.4162 - accuracy: 0.8351\n",
            "Epoch 63/70\n",
            "8/8 [==============================] - 0s 3ms/step - loss: 0.3949 - accuracy: 0.7872\n",
            "Epoch 64/70\n",
            "8/8 [==============================] - 0s 3ms/step - loss: 0.3993 - accuracy: 0.8274\n",
            "Epoch 65/70\n",
            "8/8 [==============================] - 0s 3ms/step - loss: 0.4031 - accuracy: 0.8222\n",
            "Epoch 66/70\n",
            "8/8 [==============================] - 0s 3ms/step - loss: 0.4033 - accuracy: 0.8100\n",
            "Epoch 67/70\n",
            "8/8 [==============================] - 0s 3ms/step - loss: 0.4182 - accuracy: 0.7931\n",
            "Epoch 68/70\n",
            "8/8 [==============================] - 0s 3ms/step - loss: 0.3750 - accuracy: 0.8395\n",
            "Epoch 69/70\n",
            "8/8 [==============================] - 0s 3ms/step - loss: 0.3901 - accuracy: 0.8456\n",
            "Epoch 70/70\n",
            "8/8 [==============================] - 0s 3ms/step - loss: 0.4141 - accuracy: 0.7988\n"
          ],
          "name": "stdout"
        },
        {
          "output_type": "execute_result",
          "data": {
            "text/plain": [
              "<tensorflow.python.keras.callbacks.History at 0x7fd0d1450450>"
            ]
          },
          "metadata": {
            "tags": []
          },
          "execution_count": 290
        }
      ]
    },
    {
      "cell_type": "code",
      "metadata": {
        "id": "ura8jvsyPDks"
      },
      "source": [
        "pred = nn.predict(x_train2)"
      ],
      "execution_count": 307,
      "outputs": []
    },
    {
      "cell_type": "code",
      "metadata": {
        "id": "Y2fvD5wMPDgq"
      },
      "source": [
        "for i in range(len(pred)):\n",
        "  if(pred[i]>=0.5):\n",
        "    pred[i]=1\n",
        "\n",
        "  else:\n",
        "    pred[i]=0"
      ],
      "execution_count": 308,
      "outputs": []
    },
    {
      "cell_type": "code",
      "metadata": {
        "id": "7CBE9xTcPDdj"
      },
      "source": [
        ""
      ],
      "execution_count": null,
      "outputs": []
    },
    {
      "cell_type": "code",
      "metadata": {
        "id": "YvpJ1na-JJ79"
      },
      "source": [
        "pred = nn.predict(x_test2)"
      ],
      "execution_count": 295,
      "outputs": []
    },
    {
      "cell_type": "code",
      "metadata": {
        "colab": {
          "base_uri": "https://localhost:8080/"
        },
        "id": "WEyLBko4PO1w",
        "outputId": "c13a9207-3af3-4cb8-db7c-5f6f8a275c92"
      },
      "source": [
        "nn_acc = acc(pred,y_train2)\n",
        "print('Accuracy:',nn_acc)"
      ],
      "execution_count": 310,
      "outputs": [
        {
          "output_type": "stream",
          "text": [
            "Accuracy: 0.8181818181818182\n"
          ],
          "name": "stdout"
        }
      ]
    },
    {
      "cell_type": "code",
      "metadata": {
        "colab": {
          "base_uri": "https://localhost:8080/"
        },
        "id": "xeC5DQVdPO1y",
        "outputId": "42958cb3-ba1b-4e12-9b4a-635f60a517c0"
      },
      "source": [
        "print(classification_report(pred,y_test2))"
      ],
      "execution_count": null,
      "outputs": [
        {
          "output_type": "stream",
          "text": [
            "              precision    recall  f1-score   support\n",
            "\n",
            "         0.0       0.89      0.81      0.85        31\n",
            "         1.0       0.82      0.90      0.86        30\n",
            "\n",
            "    accuracy                           0.85        61\n",
            "   macro avg       0.86      0.85      0.85        61\n",
            "weighted avg       0.86      0.85      0.85        61\n",
            "\n"
          ],
          "name": "stdout"
        }
      ]
    },
    {
      "cell_type": "code",
      "metadata": {
        "colab": {
          "base_uri": "https://localhost:8080/"
        },
        "id": "iuSR3fmDPO1z",
        "outputId": "29c79368-92f3-45a3-8f24-253cd24fc19f"
      },
      "source": [
        "print(confusion_matrix(pred,y_test2))"
      ],
      "execution_count": null,
      "outputs": [
        {
          "output_type": "stream",
          "text": [
            "[[25  6]\n",
            " [ 3 27]]\n"
          ],
          "name": "stdout"
        }
      ]
    },
    {
      "cell_type": "code",
      "metadata": {
        "id": "jq9vWUpoOM5X"
      },
      "source": [
        "for i in range(len(pred)):\n",
        "  if(pred[i]>=0.5):\n",
        "    pred[i]=1\n",
        "\n",
        "  else:\n",
        "    pred[i]=0"
      ],
      "execution_count": 301,
      "outputs": []
    },
    {
      "cell_type": "code",
      "metadata": {
        "colab": {
          "base_uri": "https://localhost:8080/"
        },
        "id": "P15WWO6POCMz",
        "outputId": "0a06aa6f-e1e1-4b2c-ac8a-ab64e361cf1f"
      },
      "source": [
        "nn_acc = acc(pred,y_test2)\n",
        "print('Accuracy:',nn_acc)"
      ],
      "execution_count": 303,
      "outputs": [
        {
          "output_type": "stream",
          "text": [
            "Accuracy: 0.8524590163934426\n"
          ],
          "name": "stdout"
        }
      ]
    },
    {
      "cell_type": "code",
      "metadata": {
        "colab": {
          "base_uri": "https://localhost:8080/"
        },
        "id": "X-rElGa3OgaK",
        "outputId": "42958cb3-ba1b-4e12-9b4a-635f60a517c0"
      },
      "source": [
        "print(classification_report(pred,y_test2))"
      ],
      "execution_count": 304,
      "outputs": [
        {
          "output_type": "stream",
          "text": [
            "              precision    recall  f1-score   support\n",
            "\n",
            "         0.0       0.89      0.81      0.85        31\n",
            "         1.0       0.82      0.90      0.86        30\n",
            "\n",
            "    accuracy                           0.85        61\n",
            "   macro avg       0.86      0.85      0.85        61\n",
            "weighted avg       0.86      0.85      0.85        61\n",
            "\n"
          ],
          "name": "stdout"
        }
      ]
    },
    {
      "cell_type": "code",
      "metadata": {
        "colab": {
          "base_uri": "https://localhost:8080/"
        },
        "id": "BaKOdFxIO5Or",
        "outputId": "29c79368-92f3-45a3-8f24-253cd24fc19f"
      },
      "source": [
        "print(confusion_matrix(pred,y_test2))"
      ],
      "execution_count": 305,
      "outputs": [
        {
          "output_type": "stream",
          "text": [
            "[[25  6]\n",
            " [ 3 27]]\n"
          ],
          "name": "stdout"
        }
      ]
    },
    {
      "cell_type": "markdown",
      "metadata": {
        "id": "tVfEYFLtC2mZ"
      },
      "source": [
        "# Summary"
      ]
    },
    {
      "cell_type": "markdown",
      "metadata": {
        "id": "37RydI6hC69e"
      },
      "source": [
        "|Model|Cross validation Score |Accuracy without feature selection| Accuracy with feature selection|\n",
        "| --- | --------------------- | -------------------------------- | ------------------------------ |\n",
        "|Logistic Regression|0.83|0.86|0.90|\n",
        "|Random Forest|0.80|0.84|0.88|\n",
        "|Decision Tree|0.77|0.82|0.78|\n",
        "|KNearestNeighbors|0.64|0.58|0.65|\n",
        "|Neural Network||0.82|0.85|"
      ]
    },
    {
      "cell_type": "code",
      "metadata": {
        "id": "W2xfU8PlCOuR"
      },
      "source": [
        ""
      ],
      "execution_count": null,
      "outputs": []
    }
  ]
}